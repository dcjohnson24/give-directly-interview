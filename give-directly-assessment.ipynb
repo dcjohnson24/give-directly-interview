{
 "cells": [
  {
   "cell_type": "markdown",
   "metadata": {},
   "source": [
    "# Give Directly Take Home Assessment"
   ]
  },
  {
   "cell_type": "markdown",
   "metadata": {},
   "source": [
    "## Question 1"
   ]
  },
  {
   "cell_type": "markdown",
   "metadata": {},
   "source": [
    "\n",
    "    1. Please evaluate the data in recipients.csv and survey_attempts.csv to answer the following questions:\n",
    "        1. How many recipients are in each of the four stages? Please provide the calculation(s) in the spreadsheet or code that you submit.\n",
    "        2. How many surveys were successfully completed in December, 2020? Please provide the calculation(s) in the spreadsheet or code that you submit.\n",
    "        3. Did you find any abnormalities in the source data? If so, how did you account for them in your analysis?"
   ]
  },
  {
   "cell_type": "markdown",
   "metadata": {},
   "source": [
    "First install the required packages."
   ]
  },
  {
   "cell_type": "code",
   "execution_count": null,
   "metadata": {},
   "outputs": [],
   "source": [
    "!pip install -r requirements.txt"
   ]
  },
  {
   "cell_type": "markdown",
   "metadata": {},
   "source": [
    "Import the required libraries"
   ]
  },
  {
   "cell_type": "code",
   "execution_count": null,
   "metadata": {},
   "outputs": [],
   "source": [
    "import pandas as pd\n",
    "import matplotlib.pyplot as plt\n",
    "import matplotlib\n",
    "matplotlib.use('QtAgg')\n",
    "\n",
    "import statsmodels.formula.api as smf"
   ]
  },
  {
   "cell_type": "markdown",
   "metadata": {},
   "source": [
    "Let's now import the two datasets and merge them"
   ]
  },
  {
   "cell_type": "code",
   "execution_count": null,
   "metadata": {},
   "outputs": [],
   "source": [
    "recipients = pd.read_csv('recipients.csv')\n",
    "attempts = pd.read_csv('survey_attempts.csv')\n",
    "merged = pd.merge(recipients, attempts, on='recipient_id', how='left', indicator=True)\n",
    "merged._merge.value_counts(dropna=False)\n"
   ]
  },
  {
   "cell_type": "markdown",
   "metadata": {},
   "source": [
    "It looks like all the recipients are matched with survey attempts. We can drop the `_merge` variable"
   ]
  },
  {
   "cell_type": "code",
   "execution_count": null,
   "metadata": {},
   "outputs": [],
   "source": [
    "merged.drop(columns='_merge', inplace=True)"
   ]
  },
  {
   "cell_type": "markdown",
   "metadata": {},
   "source": [
    "A quick glance at our data"
   ]
  },
  {
   "cell_type": "code",
   "execution_count": null,
   "metadata": {},
   "outputs": [],
   "source": [
    "merged.head(10)"
   ]
  },
  {
   "cell_type": "markdown",
   "metadata": {},
   "source": [
    "Check for duplicates. We expect that `recipient_id` and `survey_id` together form a unique id.\n"
   ]
  },
  {
   "cell_type": "code",
   "execution_count": null,
   "metadata": {},
   "outputs": [],
   "source": [
    "merged[merged.duplicated(subset=['recipient_id', 'survey_id'], keep=False)]"
   ]
  },
  {
   "cell_type": "code",
   "execution_count": null,
   "metadata": {},
   "outputs": [],
   "source": [
    "There are 50 pairs of duplicates that need to be dropped.  "
   ]
  },
  {
   "cell_type": "code",
   "execution_count": null,
   "metadata": {},
   "outputs": [],
   "source": [
    "merged = merged.drop_duplicates(subset=['recipient_id', 'survey_id'], keep='first').reset_index(drop=True)\n"
   ]
  },
  {
   "cell_type": "markdown",
   "metadata": {},
   "source": [
    "Let's now calculate the stage variable, starting with 'Start'."
   ]
  },
  {
   "cell_type": "code",
   "execution_count": null,
   "metadata": {},
   "outputs": [],
   "source": [
    "mask = merged.groupby('recipient_id')['success'].any()\n",
    "one_success = [mask.index[i] for i, m in enumerate(mask) if m]\n",
    "# Set the value to start for those with no successful surveys. '~' negates the value \n",
    "# of the mask. In this case, ~mask means find those without any successful survey\n",
    "merged.loc[~merged.recipient_id.isin(one_success), 'stage'] = 'Start'"
   ]
  },
  {
   "cell_type": "markdown",
   "metadata": {},
   "source": [
    "Next, ineligible respondents."
   ]
  },
  {
   "cell_type": "code",
   "execution_count": null,
   "metadata": {},
   "outputs": [],
   "source": [
    "# Remove the text 'County' from the column\n",
    "merged.county = merged.county.str.replace('County ', '', regex=False)\n",
    "    \n",
    "inABC = merged.county.isin(['A', 'B', 'C'])\n",
    "recipient_noABC = merged.recipient_id[~inABC]\n",
    "\n",
    "merged.loc[merged.recipient_id.isin(one_success) & merged.recipient_id.isin(recipient_noABC), 'stage'] = 'Ineligible'\n"
   ]
  }
 ],
 "metadata": {
  "interpreter": {
   "hash": "fec3f78f77408d1e1e6878babc2546d7567028565770fcb1220e700620750be0"
  },
  "kernelspec": {
   "display_name": "Python 3.8.10 ('.venv': venv)",
   "language": "python",
   "name": "python3"
  },
  "language_info": {
   "codemirror_mode": {
    "name": "ipython",
    "version": 3
   },
   "file_extension": ".py",
   "mimetype": "text/x-python",
   "name": "python",
   "nbconvert_exporter": "python",
   "pygments_lexer": "ipython3",
   "version": "3.8.10"
  },
  "orig_nbformat": 4
 },
 "nbformat": 4,
 "nbformat_minor": 2
}
