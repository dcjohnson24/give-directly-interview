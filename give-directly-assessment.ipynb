{
 "cells": [
  {
   "cell_type": "markdown",
   "metadata": {},
   "source": [
    "# GiveDirectly Take Home Assessment"
   ]
  },
  {
   "cell_type": "markdown",
   "metadata": {},
   "source": [
    "## Question 1"
   ]
  },
  {
   "cell_type": "markdown",
   "metadata": {},
   "source": [
    "1. Please evaluate the data in recipients.csv and survey_attempts.csv to answer the following questions:\n",
    "    1. How many recipients are in each of the four stages? Please provide the calculation(s) in the spreadsheet or code that you submit.\n",
    "    2. How many surveys were successfully completed in December, 2020? Please provide the calculation(s) in the spreadsheet or code that you submit.\n",
    "    3. Did you find any abnormalities in the source data? If so, how did you account for them in your analysis?"
   ]
  },
  {
   "cell_type": "markdown",
   "metadata": {},
   "source": [
    "First install the required packages."
   ]
  },
  {
   "cell_type": "code",
   "execution_count": null,
   "metadata": {},
   "outputs": [],
   "source": [
    "!pip install -r requirements.txt"
   ]
  },
  {
   "cell_type": "markdown",
   "metadata": {},
   "source": [
    "Import the required libraries"
   ]
  },
  {
   "cell_type": "code",
   "execution_count": null,
   "metadata": {},
   "outputs": [],
   "source": [
    "import pandas as pd\n",
    "import matplotlib.pyplot as plt\n",
    "import matplotlib\n",
    "from sklearn.preprocessing import LabelEncoder\n",
    "matplotlib.use('QtAgg')\n",
    "\n",
    "from statsmodels.stats.weightstats import CompareMeans\n",
    "import statsmodels.formula.api as smf\n",
    "import missingno as msno\n",
    "from sklearn.experimental import enable_iterative_imputer\n",
    "from sklearn.impute import IterativeImputer\n",
    "from sklearn.linear_model import LogisticRegressionCV\n",
    "from sklearn.ensemble import ExtraTreesClassifier, ExtraTreesRegressor\n",
    "from sklearn.model_selection import train_test_split\n",
    "from collections import defaultdict"
   ]
  },
  {
   "cell_type": "markdown",
   "metadata": {},
   "source": [
    "Let's now import the two datasets and merge them"
   ]
  },
  {
   "cell_type": "code",
   "execution_count": null,
   "metadata": {},
   "outputs": [],
   "source": [
    "recipients = pd.read_csv('recipients.csv')\n",
    "attempts = pd.read_csv('survey_attempts.csv')\n",
    "merged = pd.merge(recipients, attempts, on='recipient_id', how='left', indicator=True)\n",
    "merged._merge.value_counts(dropna=False)\n"
   ]
  },
  {
   "cell_type": "markdown",
   "metadata": {},
   "source": [
    "It looks like all the recipients are matched with survey attempts. We can drop the `_merge` variable"
   ]
  },
  {
   "cell_type": "code",
   "execution_count": null,
   "metadata": {},
   "outputs": [],
   "source": [
    "merged.drop(columns='_merge', inplace=True)"
   ]
  },
  {
   "cell_type": "markdown",
   "metadata": {},
   "source": [
    "A quick glance at our data"
   ]
  },
  {
   "cell_type": "code",
   "execution_count": null,
   "metadata": {},
   "outputs": [],
   "source": [
    "merged.head(10)"
   ]
  },
  {
   "cell_type": "markdown",
   "metadata": {},
   "source": [
    "Check for duplicates. We expect that `recipient_id` and `survey_id` together form a unique id.\n"
   ]
  },
  {
   "cell_type": "code",
   "execution_count": null,
   "metadata": {},
   "outputs": [],
   "source": [
    "merged[merged.duplicated(subset=['recipient_id', 'survey_id'], keep=False)]"
   ]
  },
  {
   "cell_type": "markdown",
   "metadata": {},
   "source": [
    "There are 50 pairs of duplicates that need to be dropped.  "
   ]
  },
  {
   "cell_type": "code",
   "execution_count": null,
   "metadata": {},
   "outputs": [],
   "source": [
    "merged = merged.drop_duplicates(subset=['recipient_id', 'survey_id'], keep='first').reset_index(drop=True)\n"
   ]
  },
  {
   "cell_type": "markdown",
   "metadata": {},
   "source": [
    "Let's now calculate the stage variable, starting with 'Start'."
   ]
  },
  {
   "cell_type": "code",
   "execution_count": null,
   "metadata": {},
   "outputs": [],
   "source": [
    "mask = merged.groupby('recipient_id')['success'].any()\n",
    "one_success = [mask.index[i] for i, m in enumerate(mask) if m]\n",
    "# Set the value to start for those with no successful surveys. '~' negates the value \n",
    "# of the mask. In this case, ~mask means find those without any successful survey\n",
    "merged.loc[~merged.recipient_id.isin(one_success), 'stage'] = 'Start'"
   ]
  },
  {
   "cell_type": "markdown",
   "metadata": {},
   "source": [
    "Next, the 'Ineligible' stage"
   ]
  },
  {
   "cell_type": "code",
   "execution_count": null,
   "metadata": {},
   "outputs": [],
   "source": [
    "# Remove the text 'County' from the column\n",
    "merged.county = merged.county.str.replace('County ', '', regex=False)\n",
    "    \n",
    "inABC = merged.county.isin(['A', 'B', 'C'])\n",
    "recipient_noABC = merged.recipient_id[~inABC]\n",
    "\n",
    "merged.loc[merged.recipient_id.isin(one_success) &\n",
    "    merged.recipient_id.isin(recipient_noABC), 'stage'] = 'Ineligible'"
   ]
  },
  {
   "cell_type": "markdown",
   "metadata": {},
   "source": [
    "The 'Review' stage"
   ]
  },
  {
   "cell_type": "code",
   "execution_count": null,
   "metadata": {},
   "outputs": [],
   "source": [
    "recipient_yesABC = merged.recipient_id[inABC]\n",
    "notActive = merged.account_status == 'Not Active'\n",
    "recipient_notActive = merged.recipient_id[notActive]\n",
    "\n",
    "merged.loc[merged.recipient_id.isin(one_success) &\n",
    "           merged.recipient_id.isin(recipient_yesABC) &\n",
    "           merged.recipient_id.isin(recipient_notActive),\n",
    "           'stage'] = 'Review'"
   ]
  },
  {
   "cell_type": "markdown",
   "metadata": {},
   "source": [
    "And finally the 'Pay' stage"
   ]
  },
  {
   "cell_type": "code",
   "execution_count": null,
   "metadata": {},
   "outputs": [],
   "source": [
    "active = merged.account_status == 'Active'\n",
    "recipient_active = merged.recipient_id[active]\n",
    "merged.loc[merged.recipient_id.isin(one_success) &\n",
    "           merged.recipient_id.isin(recipient_yesABC) &\n",
    "           merged.recipient_id.isin(recipient_active), 'stage'] = 'Pay'"
   ]
  },
  {
   "cell_type": "markdown",
   "metadata": {},
   "source": [
    "### 1.1 How many recipients in each stage?"
   ]
  },
  {
   "cell_type": "code",
   "execution_count": null,
   "metadata": {},
   "outputs": [],
   "source": [
    "merged.stage.value_counts(dropna=False)"
   ]
  },
  {
   "cell_type": "markdown",
   "metadata": {},
   "source": [
    "There are 209 in the 'Pay' stage, 150 in the 'Start', 150 'Ineligible', 35 in 'Review', and 6 not in any stage.\n",
    "This is because there are 6 recipients with a missing `account_status`. "
   ]
  },
  {
   "cell_type": "code",
   "execution_count": null,
   "metadata": {},
   "outputs": [],
   "source": [
    "merged.loc[merged.stage.isna()]"
   ]
  },
  {
   "cell_type": "markdown",
   "metadata": {},
   "source": [
    "We will impute a value for recipients with a missing `account_status`,\n",
    "but it could be worthwhile to follow up with someone for the appropriate status."
   ]
  },
  {
   "cell_type": "markdown",
   "metadata": {},
   "source": [
    "### 1.2 How many successful surveys in December?"
   ]
  },
  {
   "cell_type": "code",
   "execution_count": null,
   "metadata": {},
   "outputs": [],
   "source": [
    "merged['month'] = merged['date'].astype(str).str[:2]\n",
    "merged.groupby('month')['success'].sum()"
   ]
  },
  {
   "cell_type": "markdown",
   "metadata": {},
   "source": [
    "There were 93 successful surveys in December."
   ]
  },
  {
   "cell_type": "markdown",
   "metadata": {},
   "source": [
    "### 1.3 Abnormalities in the source data"
   ]
  },
  {
   "cell_type": "markdown",
   "metadata": {},
   "source": [
    "There were duplicates in the data that had to be dropped. Some values also did not make much sense and were flagged as missing. The missing data was later imputed."
   ]
  },
  {
   "cell_type": "code",
   "execution_count": null,
   "metadata": {},
   "outputs": [],
   "source": [
    "merged.describe()"
   ]
  },
  {
   "cell_type": "markdown",
   "metadata": {},
   "source": [
    "`time_county` has a minimum of -45 and `age` has a max of 9999. To deal with these problematic cases, I replace them with missing values to be imputed later. It could also be good to follow up with other teams on the correct value."
   ]
  },
  {
   "cell_type": "code",
   "execution_count": null,
   "metadata": {},
   "outputs": [],
   "source": [
    "\n",
    "merged.age[merged.age == 9999] = pd.np.nan \n",
    "merged.time_county[merged.time_county < 0] = pd.np.nan"
   ]
  },
  {
   "cell_type": "markdown",
   "metadata": {},
   "source": [
    "There are missing values in the data as well."
   ]
  },
  {
   "cell_type": "code",
   "execution_count": null,
   "metadata": {},
   "outputs": [],
   "source": [
    "merged.isna().sum()"
   ]
  },
  {
   "cell_type": "markdown",
   "metadata": {},
   "source": [
    "Six columns have missing data."
   ]
  },
  {
   "cell_type": "markdown",
   "metadata": {},
   "source": [
    "Missing data is usually deleted or imputed. Deleting missing data is easiest, but it can lead to biases if the data is not missing at random. If `age` is more likely to be missing in certain counties, for example, deleting missing data isn't the best approach. If the data is missing completely at random or missing at random, it can be deleted.\n",
    "\n",
    "If there are many missing values in a row, the row can be deleted. Likewise, if there are many missing values in a column, the column can be deleted. \n",
    "\n",
    "Imputation can be as simple as replacing the missing value in a column with an arbitrary value such as '0' or the column mean or mode. Other techniques take into account the values in other columns. Suppose a recipient has a missing `age`, but lives in a certain county and has also responded to the survey. Then the `age` might be imputed to be slightly lower because of a correlation between `success` and `age` or `county` and `age`. See more [here](https://www.analyticsvidhya.com/blog/2021/10/handling-missing-value/#h2_2)."
   ]
  },
  {
   "cell_type": "markdown",
   "metadata": {},
   "source": [
    "We can investigate the missing data with the `missingno` package."
   ]
  },
  {
   "cell_type": "code",
   "execution_count": null,
   "metadata": {},
   "outputs": [],
   "source": [
    "%matplotlib inline\n",
    "\n",
    "msno.matrix(merged)\n",
    "plt.xticks(rotation=15)\n",
    "plt.tight_layout()\n",
    "plt.show()"
   ]
  },
  {
   "cell_type": "markdown",
   "metadata": {},
   "source": [
    "The white lines represent missing values. The `account_number` and `account_status` appear to have coinciding missing values, and the same for `age` and `time_county`. We can visualize these relationships with a heatmap."
   ]
  },
  {
   "cell_type": "code",
   "execution_count": null,
   "metadata": {},
   "outputs": [],
   "source": [
    "%matplotlib inline\n",
    "\n",
    "msno.heatmap(merged, cmap='rainbow')\n",
    "plt.tight_layout()\n",
    "plt.show()"
   ]
  },
  {
   "cell_type": "markdown",
   "metadata": {},
   "source": [
    "There is a strong correlation between `account_number` and `account_status` being missing, which\n",
    "would make sense considering that someone without an `account_number` would not have \n",
    "an `account_status` and vice versa. There is also a strong association between `age` and `time_county` missingness.\n",
    "\n",
    "To investigate this, let's look at recipients with a missing `time_county`."
   ]
  },
  {
   "cell_type": "code",
   "execution_count": null,
   "metadata": {},
   "outputs": [],
   "source": [
    "time_county_missing = merged.loc[merged.time_county.isna()]\n",
    "print(time_county_missing.head())"
   ]
  },
  {
   "cell_type": "code",
   "execution_count": null,
   "metadata": {},
   "outputs": [],
   "source": [
    "age_missing = merged.loc[merged.age.isna()]\n",
    "print(age_missing.head())"
   ]
  },
  {
   "cell_type": "code",
   "execution_count": null,
   "metadata": {},
   "outputs": [],
   "source": [
    "print(time_county_missing.recipient_id.nunique())"
   ]
  },
  {
   "cell_type": "code",
   "execution_count": null,
   "metadata": {},
   "outputs": [],
   "source": [
    "print(age_missing.recipient_id.nunique())"
   ]
  },
  {
   "cell_type": "markdown",
   "metadata": {},
   "source": [
    "So `age` is usually missing when `time_county` is missing. There are five recipients that did not fill in their `age` and four that did not fill in `time_county` for multiple survey attempts. They may have been uncomfortable sharing that information."
   ]
  },
  {
   "cell_type": "markdown",
   "metadata": {},
   "source": [
    "Dropping these records could lead to bias because they are not missing at random. Let's impute the `age` and `time_county` for them. We'll also impute the `county` and `account_status`, which are categorical variables. The imputation strategy will regress the column with missing data, say `age`, on other columns in the data. It will then use the regression coefficients to predict the missing values for `age`. More details can be found [here](https://scikit-learn.org/stable/modules/impute.html#iterative-imputer) and [here](https://www.analyticsvidhya.com/blog/2021/10/handling-missing-value/#h2_2)  "
   ]
  },
  {
   "cell_type": "markdown",
   "metadata": {},
   "source": [
    "Starting with the categorical columns, we'll prepare the dataset for imputation by converting `account_status` and `county` to categorical codes."
   ]
  },
  {
   "cell_type": "code",
   "execution_count": null,
   "metadata": {},
   "outputs": [],
   "source": [
    "cat_cols_na = ['account_status', 'county']\n",
    "merged[cat_cols_na] = merged[cat_cols_na].astype('category')\n",
    "d_na = {col: {n: cat for n, cat in enumerate(merged[col].cat.categories)}\n",
    "            for col in cat_cols_na}\n",
    "merged[cat_cols_na] = pd.DataFrame(\n",
    "    {col: merged[col].cat.codes for col in cat_cols_na},\n",
    "    index=merged.index\n",
    ")\n",
    "print(merged[cat_cols_na].head())"
   ]
  },
  {
   "cell_type": "markdown",
   "metadata": {},
   "source": [
    "Now we can impute the missing values."
   ]
  },
  {
   "cell_type": "code",
   "execution_count": null,
   "metadata": {},
   "outputs": [],
   "source": [
    "\n",
    "imp_cat = IterativeImputer(estimator=ExtraTreesClassifier(),\n",
    "                            initial_strategy='most_frequent',\n",
    "                            max_iter=10, random_state=0, missing_values=-1)\n",
    "\n",
    "\n",
    "merged[cat_cols_na] = imp_cat.fit_transform(merged[cat_cols_na])"
   ]
  },
  {
   "cell_type": "markdown",
   "metadata": {},
   "source": [
    "Finally, we convert the numerical codes back to their original labels"
   ]
  },
  {
   "cell_type": "code",
   "execution_count": null,
   "metadata": {},
   "outputs": [],
   "source": [
    "for col in cat_cols_na:\n",
    "        merged[col].replace(d_na[col], inplace=True)\n",
    "print(merged[cat_cols_na].head())"
   ]
  },
  {
   "cell_type": "markdown",
   "metadata": {},
   "source": [
    "`age` and `time_county` are numeric variables, so they don't need any conversion."
   ]
  },
  {
   "cell_type": "code",
   "execution_count": null,
   "metadata": {},
   "outputs": [],
   "source": [
    "num_cols_na = ['age', 'time_county']\n",
    "imp_num = IterativeImputer(estimator=ExtraTreesRegressor(),\n",
    "                               initial_strategy='median',\n",
    "                               max_iter=10, random_state=0)\n",
    "merged[num_cols_na] = imp_num.fit_transform(merged[num_cols_na])"
   ]
  },
  {
   "cell_type": "markdown",
   "metadata": {},
   "source": [
    "Now that `account_status` has been imputed, the `stage` variable can be recalculated because the six missing cases were missing because of the missing `account_status` at the time of calculation."
   ]
  },
  {
   "cell_type": "code",
   "execution_count": null,
   "metadata": {},
   "outputs": [],
   "source": [
    "notActive = merged.account_status == 'Not Active'\n",
    "recipient_notActive = merged.recipient_id[notActive]\n",
    "\n",
    "merged.loc[merged.recipient_id.isin(one_success) &\n",
    "           merged.recipient_id.isin(recipient_yesABC) &\n",
    "           merged.recipient_id.isin(recipient_notActive),\n",
    "           'stage'] = 'Review'"
   ]
  },
  {
   "cell_type": "code",
   "execution_count": null,
   "metadata": {},
   "outputs": [],
   "source": [
    "active = merged.account_status == 'Active'\n",
    "recipient_active = merged.recipient_id[active]\n",
    "merged.loc[merged.recipient_id.isin(one_success) &\n",
    "           merged.recipient_id.isin(recipient_yesABC) &\n",
    "           merged.recipient_id.isin(recipient_active), 'stage'] = 'Pay'"
   ]
  },
  {
   "cell_type": "markdown",
   "metadata": {},
   "source": [
    "Another look at which columns contain missing data shows that there is only the `account_number` column, which can be ignored for analysis. It also would not be appropriate to impute an identifier."
   ]
  },
  {
   "cell_type": "code",
   "execution_count": null,
   "metadata": {},
   "outputs": [],
   "source": [
    "merged.isna().sum()"
   ]
  },
  {
   "cell_type": "markdown",
   "metadata": {},
   "source": [
    "## Question 2"
   ]
  },
  {
   "cell_type": "markdown",
   "metadata": {},
   "source": [
    "2. The program manager has asked for data to help determine whether the field team should focus more effort on calling those in stage Start or following up to resolve issues with those in stage Review. Please write a response to the program manager, including data that may help inform the decision, and some additional factors that you would take into consideration to make the decision. Assume that the program manager’s expertise does not include interpreting data and complex analytics. Please limit your written response to 300 words or less. "
   ]
  },
  {
   "cell_type": "markdown",
   "metadata": {},
   "source": [
    "It would not make sense to calculate the chance of someone having a successful survey based on the `stage` variable because the 'Start' group would have no successful surveys and the other three groups would have all recipients with at least one successful survey. On the other hand, it would be good to know the chances of someone moving from the 'Review' stage to a 'Pay' stage at a later date, for example. "
   ]
  },
  {
   "cell_type": "code",
   "execution_count": null,
   "metadata": {},
   "outputs": [],
   "source": [
    "# Check how many recipients have more than one stage\n",
    "(merged.groupby('recipient_id')['stage'].nunique() > 1).sum()"
   ]
  },
  {
   "cell_type": "markdown",
   "metadata": {},
   "source": [
    "There do not appear to be recipients that have changed their stage. Let's check for recipients\n",
    "that have changed from 'Not Active' to 'Active' `account_status`."
   ]
  },
  {
   "cell_type": "code",
   "execution_count": null,
   "metadata": {},
   "outputs": [],
   "source": [
    "(merged.groupby('recipient_id')['account_status'].nunique() > 1).sum()"
   ]
  },
  {
   "cell_type": "markdown",
   "metadata": {},
   "source": [
    "No recipients have changed from 'Not Active' to 'Active' `account_status` either.\n"
   ]
  },
  {
   "cell_type": "markdown",
   "metadata": {},
   "source": [
    "One thing to consider is that the 'Start' group has 150 recipients compared to only 35 in the 'Review' group.\n",
    "The 'Start' group success rate only needs to be 35/150 ~ 23% to match a 100% success rate in the\n",
    "'Review' group. It would be good to look up historical data on the conversion rate from 'Start' to 'Pay' versus 'Review' to 'Pay'. Data on the cost of converting the 'Start' group versus the 'Review' group would also be helpful for the decision."
   ]
  },
  {
   "cell_type": "code",
   "execution_count": null,
   "metadata": {},
   "outputs": [],
   "source": [
    "merged.stage.value_counts(dropna=False)"
   ]
  },
  {
   "cell_type": "markdown",
   "metadata": {},
   "source": [
    "## Question 3"
   ]
  },
  {
   "cell_type": "markdown",
   "metadata": {},
   "source": [
    "3. The country director is considering investing resources into proactively conducting in-person surveys with recipients *in the highest age group* across projects to increase overall survey success rate. They believe that this additional cost might outweigh the current costs of repeated failed phone survey attempts, if we can accurately target those recipients *least likely* to respond to a phone survey. \n",
    "    1. What analysis would you provide from the provided project data to help make this decision? Please provide the calculation(s) in the spreadsheet or code that you submit.\n",
    "    2. Are there other factors that might explain the observed survey success rate from this project? Please use your judgment to determine these factors and limit your written response to 400 words or less. "
   ]
  },
  {
   "cell_type": "markdown",
   "metadata": {},
   "source": [
    "### 3.1"
   ]
  },
  {
   "cell_type": "markdown",
   "metadata": {},
   "source": [
    "Let's graph the relationship between `age` and at least one successful survey."
   ]
  },
  {
   "cell_type": "code",
   "execution_count": null,
   "metadata": {},
   "outputs": [],
   "source": [
    "%matplotlib inline\n",
    "\n",
    "merged['one_success'] = 0\n",
    "merged.loc[merged.recipient_id.isin(one_success), 'one_success'] = 1\n",
    "\n",
    "# Create bins for age broken into quartiles\n",
    "merged['age_bin'] = pd.qcut(merged.age, q=4)\n",
    "age_success = merged.groupby('age_bin')['one_success'].sum()\n",
    "age = merged.groupby('age_bin')['one_success'].count()\n",
    "results = age_success.div(age, level='age_bin') * 100\n",
    "\n",
    "results.plot(kind='bar')\n",
    "\n",
    "plt.xticks(rotation=0)\n",
    "plt.xlabel('Age Group')\n",
    "plt.ylabel('% of recipients with at least\\n one successful survey')\n",
    "plt.show()"
   ]
  },
  {
   "cell_type": "markdown",
   "metadata": {},
   "source": [
    "People in the highest age group are the least likely to have at least one successful survey."
   ]
  },
  {
   "cell_type": "markdown",
   "metadata": {},
   "source": [
    "Using logistic regression we have"
   ]
  },
  {
   "cell_type": "code",
   "execution_count": null,
   "metadata": {},
   "outputs": [],
   "source": [
    "logit = smf.logit('one_success ~ age', data=merged).fit()\n",
    "print(logit.summary())"
   ]
  },
  {
   "cell_type": "markdown",
   "metadata": {},
   "source": [
    "There is a negative relationship between `age` and the chance of at least one successful survey. The coefficient is also statistically significant. To interpret it we calculate the odds ratio."
   ]
  },
  {
   "cell_type": "code",
   "execution_count": null,
   "metadata": {},
   "outputs": [],
   "source": [
    "odds_ratios = pd.DataFrame({\n",
    "        'OR': logit.params, \n",
    "        'Lower CI': logit.conf_int()[0],\n",
    "        'Upper CI': logit.conf_int()[1]\n",
    "    })\n",
    "    \n",
    "odds_ratios = pd.np.exp(odds_ratios)\n",
    "print(odds_ratios)\n",
    "print(round((odds_ratios['OR'][1] - 1) * 100, 2))"
   ]
  },
  {
   "cell_type": "markdown",
   "metadata": {},
   "source": [
    "Each additional increase of one year in age is associated with a roughly 16 percent decrease\n",
    "in odds of having at least one successful survey. \n",
    "\n",
    "So far, it appears that older recipients are less likely to respond to surveys. Focusing on the \n",
    "older recipients would help target those with lower response rates."
   ]
  },
  {
   "cell_type": "markdown",
   "metadata": {},
   "source": [
    "### 3.2"
   ]
  },
  {
   "cell_type": "markdown",
   "metadata": {},
   "source": [
    "We include other variables in our logistic regression to check for confounders."
   ]
  },
  {
   "cell_type": "code",
   "execution_count": null,
   "metadata": {},
   "outputs": [],
   "source": [
    "big_logit = smf.logit('one_success ~ time_county + age + C(month) + C(account_status)', data=merged).fit()\n",
    "print(big_logit.summary())"
   ]
  },
  {
   "cell_type": "markdown",
   "metadata": {},
   "source": [
    "When `time_county`, `month`, and `account_status` are included along with `age`, `age` and `time_county` are still significant predictors. We can also look at other feature selection methods."
   ]
  },
  {
   "cell_type": "markdown",
   "metadata": {},
   "source": [
    "Logistic regression can also be used to [select features](https://towardsdatascience.com/feature-selection-with-pandas-e3690ad8504b) based on their importance in predicting at least one successful survey."
   ]
  },
  {
   "cell_type": "code",
   "execution_count": null,
   "metadata": {},
   "outputs": [],
   "source": [
    "reg = LogisticRegressionCV()\n",
    "cat_cols = ['month', 'account_status', 'county']\n",
    "num_cols = ['age', 'time_county']\n",
    "d = defaultdict(LabelEncoder)\n",
    "le_fit = merged[cat_cols].apply(lambda x: d[x.name].fit_transform(x))\n",
    "X = pd.concat((merged[num_cols], le_fit), axis=1)\n",
    "y = merged['one_success']\n",
    "X_train, X_test, y_train, y_test = train_test_split(\n",
    "    X, y, test_size=0.3, random_state=42\n",
    ")\n",
    "\n",
    "reg.fit(X_train, y_train)\n",
    "print(\"Best accuracy score using built-in LogisticRegCV: %f\" % reg.score(X_test, y_test))\n",
    "coef = pd.Series(reg.coef_.flatten(), index=X.columns)\n",
    "imp_coef = coef.sort_values()\n",
    "\n",
    "imp_coef.plot(kind=\"barh\")\n",
    "plt.title(\"Feature importance using Logistic Regression Model\")\n",
    "plt.tight_layout()\n",
    "plt.show()"
   ]
  },
  {
   "cell_type": "markdown",
   "metadata": {},
   "source": [
    "It appears that the account_status has the largest effect on whether a survey is successful.\n",
    "`age` and `month` are discarded. Recall that `age` and `account_status` are correlated, however."
   ]
  },
  {
   "cell_type": "code",
   "execution_count": null,
   "metadata": {},
   "outputs": [],
   "source": [
    "merged.groupby('account_status')['age'].mean()"
   ]
  },
  {
   "cell_type": "markdown",
   "metadata": {},
   "source": [
    "The 'Not Active' group is slightly older. A test of the equality of group means can confirm this. The null hypothesis is that the means are equal."
   ]
  },
  {
   "cell_type": "code",
   "execution_count": null,
   "metadata": {},
   "outputs": [],
   "source": [
    "active_age = merged.age[merged.account_status == 'Active']\n",
    "notactive_age = merged.age[merged.account_status == 'Not Active']\n",
    "print(CompareMeans.from_data(active_age, notactive_age).ttest_ind())"
   ]
  },
  {
   "cell_type": "markdown",
   "metadata": {},
   "source": [
    "The p-value is close to zero, rejecting the null hypothesis that the means of the two groups are equal.\n",
    "So there is a statistically significant difference between the ages of 'Active' and 'Not Active' recipients."
   ]
  },
  {
   "cell_type": "markdown",
   "metadata": {},
   "source": [
    "Let's now use a tree-based classifier for comparison."
   ]
  },
  {
   "cell_type": "code",
   "execution_count": null,
   "metadata": {},
   "outputs": [],
   "source": [
    "reg_extra_tree = ExtraTreesClassifier(n_estimators=10)\n",
    "reg_extra_tree.fit(X_train, y_train)\n",
    "feat_imp = pd.Series(\n",
    "    reg_extra_tree.feature_importances_,\n",
    "    index=X.columns\n",
    ").sort_values()\n",
    "print(f\"Mean accuracy on test data is {reg_extra_tree.score(X_test, y_test)}\")\n",
    "feat_imp.plot(kind=\"barh\")\n",
    "plt.title(\"Feature importance using Extra Tree Classifier\")\n",
    "plt.tight_layout()\n",
    "plt.show()"
   ]
  },
  {
   "cell_type": "markdown",
   "metadata": {},
   "source": [
    "This time the model has `time_county` as the most important effect. All of the features are chosen by the\n",
    "model, however. Note that there is randomness in the model, so sometimes the features\n",
    "will be ranked differently across different runs. But the model will still choose features important for prediction."
   ]
  }
 ],
 "metadata": {
  "interpreter": {
   "hash": "fec3f78f77408d1e1e6878babc2546d7567028565770fcb1220e700620750be0"
  },
  "kernelspec": {
   "display_name": "Python 3.8.10 ('.venv': venv)",
   "language": "python",
   "name": "python3"
  },
  "language_info": {
   "codemirror_mode": {
    "name": "ipython",
    "version": 3
   },
   "file_extension": ".py",
   "mimetype": "text/x-python",
   "name": "python",
   "nbconvert_exporter": "python",
   "pygments_lexer": "ipython3",
   "version": "3.8.10"
  },
  "orig_nbformat": 4
 },
 "nbformat": 4,
 "nbformat_minor": 2
}
