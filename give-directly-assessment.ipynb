{
 "cells": [
  {
   "cell_type": "markdown",
   "metadata": {},
   "source": [
    "# GiveDirectly Take Home Assessment"
   ]
  },
  {
   "cell_type": "markdown",
   "metadata": {},
   "source": [
    "## Question 1"
   ]
  },
  {
   "cell_type": "markdown",
   "metadata": {},
   "source": [
    "1. Please evaluate the data in `recipients.csv` and `survey_attempts.csv` to answer the following questions:\n",
    "    1. How many recipients are in each of the four stages? Please provide the calculation(s) in the spreadsheet or code that you submit.\n",
    "    2. How many surveys were successfully completed in December, 2020? Please provide the calculation(s) in the spreadsheet or code that you submit.\n",
    "    3. Did you find any abnormalities in the source data? If so, how did you account for them in your analysis?"
   ]
  },
  {
   "cell_type": "markdown",
   "metadata": {},
   "source": [
    "First install the required packages."
   ]
  },
  {
   "cell_type": "code",
   "execution_count": 1,
   "metadata": {},
   "outputs": [
    {
     "name": "stdout",
     "output_type": "stream",
     "text": [
      "Requirement already satisfied: pandas==1.4.2 in ./.venv/lib/python3.8/site-packages (from -r requirements.txt (line 1)) (1.4.2)\n",
      "Requirement already satisfied: jupyterlab==3.4.2 in ./.venv/lib/python3.8/site-packages (from -r requirements.txt (line 2)) (3.4.2)\n",
      "Requirement already satisfied: matplotlib==3.5.2 in ./.venv/lib/python3.8/site-packages (from -r requirements.txt (line 3)) (3.5.2)\n",
      "Requirement already satisfied: ipython==8.4.0 in ./.venv/lib/python3.8/site-packages (from -r requirements.txt (line 4)) (8.4.0)\n",
      "Requirement already satisfied: flake8==4.0.1 in ./.venv/lib/python3.8/site-packages (from -r requirements.txt (line 5)) (4.0.1)\n",
      "Requirement already satisfied: PyQt5==5.15.6 in ./.venv/lib/python3.8/site-packages (from -r requirements.txt (line 6)) (5.15.6)\n",
      "Requirement already satisfied: statsmodels==0.13.2 in ./.venv/lib/python3.8/site-packages (from -r requirements.txt (line 7)) (0.13.2)\n",
      "Requirement already satisfied: ipykernel==6.13.0 in ./.venv/lib/python3.8/site-packages (from -r requirements.txt (line 8)) (6.13.0)\n",
      "Requirement already satisfied: missingno==0.5.1 in ./.venv/lib/python3.8/site-packages (from -r requirements.txt (line 9)) (0.5.1)\n",
      "Requirement already satisfied: scikit-learn==1.1.1 in ./.venv/lib/python3.8/site-packages (from -r requirements.txt (line 10)) (1.1.1)\n",
      "Requirement already satisfied: pytz>=2020.1 in ./.venv/lib/python3.8/site-packages (from pandas==1.4.2->-r requirements.txt (line 1)) (2022.1)\n",
      "Requirement already satisfied: numpy>=1.18.5; platform_machine != \"aarch64\" and platform_machine != \"arm64\" and python_version < \"3.10\" in ./.venv/lib/python3.8/site-packages (from pandas==1.4.2->-r requirements.txt (line 1)) (1.22.4)\n",
      "Requirement already satisfied: python-dateutil>=2.8.1 in ./.venv/lib/python3.8/site-packages (from pandas==1.4.2->-r requirements.txt (line 1)) (2.8.2)\n",
      "Requirement already satisfied: jinja2>=2.1 in ./.venv/lib/python3.8/site-packages (from jupyterlab==3.4.2->-r requirements.txt (line 2)) (3.1.2)\n",
      "Requirement already satisfied: jupyter-core in ./.venv/lib/python3.8/site-packages (from jupyterlab==3.4.2->-r requirements.txt (line 2)) (4.10.0)\n",
      "Requirement already satisfied: tornado>=6.1.0 in ./.venv/lib/python3.8/site-packages (from jupyterlab==3.4.2->-r requirements.txt (line 2)) (6.1)\n",
      "Requirement already satisfied: packaging in ./.venv/lib/python3.8/site-packages (from jupyterlab==3.4.2->-r requirements.txt (line 2)) (21.3)\n",
      "Requirement already satisfied: nbclassic~=0.2 in ./.venv/lib/python3.8/site-packages (from jupyterlab==3.4.2->-r requirements.txt (line 2)) (0.3.7)\n",
      "Requirement already satisfied: jupyter-server~=1.16 in ./.venv/lib/python3.8/site-packages (from jupyterlab==3.4.2->-r requirements.txt (line 2)) (1.17.0)\n",
      "Requirement already satisfied: jupyterlab-server~=2.10 in ./.venv/lib/python3.8/site-packages (from jupyterlab==3.4.2->-r requirements.txt (line 2)) (2.14.0)\n",
      "Requirement already satisfied: pyparsing>=2.2.1 in ./.venv/lib/python3.8/site-packages (from matplotlib==3.5.2->-r requirements.txt (line 3)) (3.0.9)\n",
      "Requirement already satisfied: pillow>=6.2.0 in ./.venv/lib/python3.8/site-packages (from matplotlib==3.5.2->-r requirements.txt (line 3)) (9.1.1)\n",
      "Requirement already satisfied: fonttools>=4.22.0 in ./.venv/lib/python3.8/site-packages (from matplotlib==3.5.2->-r requirements.txt (line 3)) (4.33.3)\n",
      "Requirement already satisfied: cycler>=0.10 in ./.venv/lib/python3.8/site-packages (from matplotlib==3.5.2->-r requirements.txt (line 3)) (0.11.0)\n",
      "Requirement already satisfied: kiwisolver>=1.0.1 in ./.venv/lib/python3.8/site-packages (from matplotlib==3.5.2->-r requirements.txt (line 3)) (1.4.2)\n",
      "Requirement already satisfied: pexpect>4.3; sys_platform != \"win32\" in ./.venv/lib/python3.8/site-packages (from ipython==8.4.0->-r requirements.txt (line 4)) (4.8.0)\n",
      "Requirement already satisfied: pickleshare in ./.venv/lib/python3.8/site-packages (from ipython==8.4.0->-r requirements.txt (line 4)) (0.7.5)\n",
      "Requirement already satisfied: backcall in ./.venv/lib/python3.8/site-packages (from ipython==8.4.0->-r requirements.txt (line 4)) (0.2.0)\n",
      "Requirement already satisfied: jedi>=0.16 in ./.venv/lib/python3.8/site-packages (from ipython==8.4.0->-r requirements.txt (line 4)) (0.18.1)\n",
      "Requirement already satisfied: prompt-toolkit!=3.0.0,!=3.0.1,<3.1.0,>=2.0.0 in ./.venv/lib/python3.8/site-packages (from ipython==8.4.0->-r requirements.txt (line 4)) (3.0.29)\n",
      "Requirement already satisfied: setuptools>=18.5 in ./.venv/lib/python3.8/site-packages (from ipython==8.4.0->-r requirements.txt (line 4)) (44.0.0)\n",
      "Requirement already satisfied: traitlets>=5 in ./.venv/lib/python3.8/site-packages (from ipython==8.4.0->-r requirements.txt (line 4)) (5.2.2.post1)\n",
      "Requirement already satisfied: stack-data in ./.venv/lib/python3.8/site-packages (from ipython==8.4.0->-r requirements.txt (line 4)) (0.2.0)\n",
      "Requirement already satisfied: pygments>=2.4.0 in ./.venv/lib/python3.8/site-packages (from ipython==8.4.0->-r requirements.txt (line 4)) (2.12.0)\n",
      "Requirement already satisfied: decorator in ./.venv/lib/python3.8/site-packages (from ipython==8.4.0->-r requirements.txt (line 4)) (5.1.1)\n",
      "Requirement already satisfied: matplotlib-inline in ./.venv/lib/python3.8/site-packages (from ipython==8.4.0->-r requirements.txt (line 4)) (0.1.3)\n",
      "Requirement already satisfied: pycodestyle<2.9.0,>=2.8.0 in ./.venv/lib/python3.8/site-packages (from flake8==4.0.1->-r requirements.txt (line 5)) (2.8.0)\n",
      "Requirement already satisfied: pyflakes<2.5.0,>=2.4.0 in ./.venv/lib/python3.8/site-packages (from flake8==4.0.1->-r requirements.txt (line 5)) (2.4.0)\n",
      "Requirement already satisfied: mccabe<0.7.0,>=0.6.0 in ./.venv/lib/python3.8/site-packages (from flake8==4.0.1->-r requirements.txt (line 5)) (0.6.1)\n",
      "Requirement already satisfied: PyQt5-sip<13,>=12.8 in ./.venv/lib/python3.8/site-packages (from PyQt5==5.15.6->-r requirements.txt (line 6)) (12.10.1)\n",
      "Requirement already satisfied: PyQt5-Qt5>=5.15.2 in ./.venv/lib/python3.8/site-packages (from PyQt5==5.15.6->-r requirements.txt (line 6)) (5.15.2)\n",
      "Requirement already satisfied: patsy>=0.5.2 in ./.venv/lib/python3.8/site-packages (from statsmodels==0.13.2->-r requirements.txt (line 7)) (0.5.2)\n",
      "Requirement already satisfied: scipy>=1.3 in ./.venv/lib/python3.8/site-packages (from statsmodels==0.13.2->-r requirements.txt (line 7)) (1.8.1)\n",
      "Requirement already satisfied: jupyter-client>=6.1.12 in ./.venv/lib/python3.8/site-packages (from ipykernel==6.13.0->-r requirements.txt (line 8)) (7.3.1)\n",
      "Requirement already satisfied: nest-asyncio in ./.venv/lib/python3.8/site-packages (from ipykernel==6.13.0->-r requirements.txt (line 8)) (1.5.5)\n",
      "Requirement already satisfied: debugpy>=1.0 in ./.venv/lib/python3.8/site-packages (from ipykernel==6.13.0->-r requirements.txt (line 8)) (1.6.0)\n",
      "Requirement already satisfied: psutil in ./.venv/lib/python3.8/site-packages (from ipykernel==6.13.0->-r requirements.txt (line 8)) (5.9.1)\n",
      "Requirement already satisfied: seaborn in ./.venv/lib/python3.8/site-packages (from missingno==0.5.1->-r requirements.txt (line 9)) (0.11.2)\n",
      "Requirement already satisfied: joblib>=1.0.0 in ./.venv/lib/python3.8/site-packages (from scikit-learn==1.1.1->-r requirements.txt (line 10)) (1.1.0)\n",
      "Requirement already satisfied: threadpoolctl>=2.0.0 in ./.venv/lib/python3.8/site-packages (from scikit-learn==1.1.1->-r requirements.txt (line 10)) (3.1.0)\n",
      "Requirement already satisfied: six>=1.5 in ./.venv/lib/python3.8/site-packages (from python-dateutil>=2.8.1->pandas==1.4.2->-r requirements.txt (line 1)) (1.16.0)\n",
      "Requirement already satisfied: MarkupSafe>=2.0 in ./.venv/lib/python3.8/site-packages (from jinja2>=2.1->jupyterlab==3.4.2->-r requirements.txt (line 2)) (2.1.1)\n",
      "Requirement already satisfied: notebook<7 in ./.venv/lib/python3.8/site-packages (from nbclassic~=0.2->jupyterlab==3.4.2->-r requirements.txt (line 2)) (6.4.11)\n",
      "Requirement already satisfied: notebook-shim>=0.1.0 in ./.venv/lib/python3.8/site-packages (from nbclassic~=0.2->jupyterlab==3.4.2->-r requirements.txt (line 2)) (0.1.0)\n",
      "Requirement already satisfied: prometheus-client in ./.venv/lib/python3.8/site-packages (from jupyter-server~=1.16->jupyterlab==3.4.2->-r requirements.txt (line 2)) (0.14.1)\n",
      "Requirement already satisfied: pyzmq>=17 in ./.venv/lib/python3.8/site-packages (from jupyter-server~=1.16->jupyterlab==3.4.2->-r requirements.txt (line 2)) (23.1.0)\n",
      "Requirement already satisfied: websocket-client in ./.venv/lib/python3.8/site-packages (from jupyter-server~=1.16->jupyterlab==3.4.2->-r requirements.txt (line 2)) (1.3.2)\n",
      "Requirement already satisfied: nbformat>=5.2.0 in ./.venv/lib/python3.8/site-packages (from jupyter-server~=1.16->jupyterlab==3.4.2->-r requirements.txt (line 2)) (5.4.0)\n",
      "Requirement already satisfied: argon2-cffi in ./.venv/lib/python3.8/site-packages (from jupyter-server~=1.16->jupyterlab==3.4.2->-r requirements.txt (line 2)) (21.3.0)\n",
      "Requirement already satisfied: anyio<4,>=3.1.0 in ./.venv/lib/python3.8/site-packages (from jupyter-server~=1.16->jupyterlab==3.4.2->-r requirements.txt (line 2)) (3.6.1)\n",
      "Requirement already satisfied: terminado>=0.8.3 in ./.venv/lib/python3.8/site-packages (from jupyter-server~=1.16->jupyterlab==3.4.2->-r requirements.txt (line 2)) (0.15.0)\n",
      "Requirement already satisfied: Send2Trash in ./.venv/lib/python3.8/site-packages (from jupyter-server~=1.16->jupyterlab==3.4.2->-r requirements.txt (line 2)) (1.8.0)\n",
      "Requirement already satisfied: nbconvert>=6.4.4 in ./.venv/lib/python3.8/site-packages (from jupyter-server~=1.16->jupyterlab==3.4.2->-r requirements.txt (line 2)) (6.5.0)\n",
      "Requirement already satisfied: jsonschema>=3.0.1 in ./.venv/lib/python3.8/site-packages (from jupyterlab-server~=2.10->jupyterlab==3.4.2->-r requirements.txt (line 2)) (4.6.0)\n",
      "Requirement already satisfied: babel in ./.venv/lib/python3.8/site-packages (from jupyterlab-server~=2.10->jupyterlab==3.4.2->-r requirements.txt (line 2)) (2.10.1)\n",
      "Requirement already satisfied: importlib-metadata>=3.6; python_version < \"3.10\" in ./.venv/lib/python3.8/site-packages (from jupyterlab-server~=2.10->jupyterlab==3.4.2->-r requirements.txt (line 2)) (4.11.4)\n",
      "Requirement already satisfied: json5 in ./.venv/lib/python3.8/site-packages (from jupyterlab-server~=2.10->jupyterlab==3.4.2->-r requirements.txt (line 2)) (0.9.8)\n",
      "Requirement already satisfied: requests in ./.venv/lib/python3.8/site-packages (from jupyterlab-server~=2.10->jupyterlab==3.4.2->-r requirements.txt (line 2)) (2.27.1)\n",
      "Requirement already satisfied: ptyprocess>=0.5 in ./.venv/lib/python3.8/site-packages (from pexpect>4.3; sys_platform != \"win32\"->ipython==8.4.0->-r requirements.txt (line 4)) (0.7.0)\n",
      "Requirement already satisfied: parso<0.9.0,>=0.8.0 in ./.venv/lib/python3.8/site-packages (from jedi>=0.16->ipython==8.4.0->-r requirements.txt (line 4)) (0.8.3)\n",
      "Requirement already satisfied: wcwidth in ./.venv/lib/python3.8/site-packages (from prompt-toolkit!=3.0.0,!=3.0.1,<3.1.0,>=2.0.0->ipython==8.4.0->-r requirements.txt (line 4)) (0.2.5)\n",
      "Requirement already satisfied: pure-eval in ./.venv/lib/python3.8/site-packages (from stack-data->ipython==8.4.0->-r requirements.txt (line 4)) (0.2.2)\n",
      "Requirement already satisfied: executing in ./.venv/lib/python3.8/site-packages (from stack-data->ipython==8.4.0->-r requirements.txt (line 4)) (0.8.3)\n",
      "Requirement already satisfied: asttokens in ./.venv/lib/python3.8/site-packages (from stack-data->ipython==8.4.0->-r requirements.txt (line 4)) (2.0.5)\n",
      "Requirement already satisfied: entrypoints in ./.venv/lib/python3.8/site-packages (from jupyter-client>=6.1.12->ipykernel==6.13.0->-r requirements.txt (line 8)) (0.4)\n",
      "Requirement already satisfied: ipython-genutils in ./.venv/lib/python3.8/site-packages (from notebook<7->nbclassic~=0.2->jupyterlab==3.4.2->-r requirements.txt (line 2)) (0.2.0)\n",
      "Requirement already satisfied: fastjsonschema in ./.venv/lib/python3.8/site-packages (from nbformat>=5.2.0->jupyter-server~=1.16->jupyterlab==3.4.2->-r requirements.txt (line 2)) (2.15.3)\n",
      "Requirement already satisfied: argon2-cffi-bindings in ./.venv/lib/python3.8/site-packages (from argon2-cffi->jupyter-server~=1.16->jupyterlab==3.4.2->-r requirements.txt (line 2)) (21.2.0)\n",
      "Requirement already satisfied: sniffio>=1.1 in ./.venv/lib/python3.8/site-packages (from anyio<4,>=3.1.0->jupyter-server~=1.16->jupyterlab==3.4.2->-r requirements.txt (line 2)) (1.2.0)\n",
      "Requirement already satisfied: idna>=2.8 in ./.venv/lib/python3.8/site-packages (from anyio<4,>=3.1.0->jupyter-server~=1.16->jupyterlab==3.4.2->-r requirements.txt (line 2)) (3.3)\n",
      "Requirement already satisfied: nbclient>=0.5.0 in ./.venv/lib/python3.8/site-packages (from nbconvert>=6.4.4->jupyter-server~=1.16->jupyterlab==3.4.2->-r requirements.txt (line 2)) (0.6.4)\n",
      "Requirement already satisfied: defusedxml in ./.venv/lib/python3.8/site-packages (from nbconvert>=6.4.4->jupyter-server~=1.16->jupyterlab==3.4.2->-r requirements.txt (line 2)) (0.7.1)\n",
      "Requirement already satisfied: tinycss2 in ./.venv/lib/python3.8/site-packages (from nbconvert>=6.4.4->jupyter-server~=1.16->jupyterlab==3.4.2->-r requirements.txt (line 2)) (1.1.1)\n",
      "Requirement already satisfied: jupyterlab-pygments in ./.venv/lib/python3.8/site-packages (from nbconvert>=6.4.4->jupyter-server~=1.16->jupyterlab==3.4.2->-r requirements.txt (line 2)) (0.2.2)\n",
      "Requirement already satisfied: bleach in ./.venv/lib/python3.8/site-packages (from nbconvert>=6.4.4->jupyter-server~=1.16->jupyterlab==3.4.2->-r requirements.txt (line 2)) (5.0.0)\n",
      "Requirement already satisfied: mistune<2,>=0.8.1 in ./.venv/lib/python3.8/site-packages (from nbconvert>=6.4.4->jupyter-server~=1.16->jupyterlab==3.4.2->-r requirements.txt (line 2)) (0.8.4)\n",
      "Requirement already satisfied: beautifulsoup4 in ./.venv/lib/python3.8/site-packages (from nbconvert>=6.4.4->jupyter-server~=1.16->jupyterlab==3.4.2->-r requirements.txt (line 2)) (4.11.1)\n",
      "Requirement already satisfied: pandocfilters>=1.4.1 in ./.venv/lib/python3.8/site-packages (from nbconvert>=6.4.4->jupyter-server~=1.16->jupyterlab==3.4.2->-r requirements.txt (line 2)) (1.5.0)\n",
      "Requirement already satisfied: importlib-resources>=1.4.0; python_version < \"3.9\" in ./.venv/lib/python3.8/site-packages (from jsonschema>=3.0.1->jupyterlab-server~=2.10->jupyterlab==3.4.2->-r requirements.txt (line 2)) (5.7.1)\n",
      "Requirement already satisfied: pyrsistent!=0.17.0,!=0.17.1,!=0.17.2,>=0.14.0 in ./.venv/lib/python3.8/site-packages (from jsonschema>=3.0.1->jupyterlab-server~=2.10->jupyterlab==3.4.2->-r requirements.txt (line 2)) (0.18.1)\n",
      "Requirement already satisfied: attrs>=17.4.0 in ./.venv/lib/python3.8/site-packages (from jsonschema>=3.0.1->jupyterlab-server~=2.10->jupyterlab==3.4.2->-r requirements.txt (line 2)) (21.4.0)\n",
      "Requirement already satisfied: zipp>=0.5 in ./.venv/lib/python3.8/site-packages (from importlib-metadata>=3.6; python_version < \"3.10\"->jupyterlab-server~=2.10->jupyterlab==3.4.2->-r requirements.txt (line 2)) (3.8.0)\n",
      "Requirement already satisfied: charset-normalizer~=2.0.0; python_version >= \"3\" in ./.venv/lib/python3.8/site-packages (from requests->jupyterlab-server~=2.10->jupyterlab==3.4.2->-r requirements.txt (line 2)) (2.0.12)\n",
      "Requirement already satisfied: urllib3<1.27,>=1.21.1 in ./.venv/lib/python3.8/site-packages (from requests->jupyterlab-server~=2.10->jupyterlab==3.4.2->-r requirements.txt (line 2)) (1.26.9)\n",
      "Requirement already satisfied: certifi>=2017.4.17 in ./.venv/lib/python3.8/site-packages (from requests->jupyterlab-server~=2.10->jupyterlab==3.4.2->-r requirements.txt (line 2)) (2022.5.18.1)\n",
      "Requirement already satisfied: cffi>=1.0.1 in ./.venv/lib/python3.8/site-packages (from argon2-cffi-bindings->argon2-cffi->jupyter-server~=1.16->jupyterlab==3.4.2->-r requirements.txt (line 2)) (1.15.0)\n",
      "Requirement already satisfied: webencodings>=0.4 in ./.venv/lib/python3.8/site-packages (from tinycss2->nbconvert>=6.4.4->jupyter-server~=1.16->jupyterlab==3.4.2->-r requirements.txt (line 2)) (0.5.1)\n",
      "Requirement already satisfied: soupsieve>1.2 in ./.venv/lib/python3.8/site-packages (from beautifulsoup4->nbconvert>=6.4.4->jupyter-server~=1.16->jupyterlab==3.4.2->-r requirements.txt (line 2)) (2.3.2.post1)\n",
      "Requirement already satisfied: pycparser in ./.venv/lib/python3.8/site-packages (from cffi>=1.0.1->argon2-cffi-bindings->argon2-cffi->jupyter-server~=1.16->jupyterlab==3.4.2->-r requirements.txt (line 2)) (2.21)\n"
     ]
    }
   ],
   "source": [
    "!pip install -r requirements.txt"
   ]
  },
  {
   "cell_type": "markdown",
   "metadata": {},
   "source": [
    "Import the required libraries."
   ]
  },
  {
   "cell_type": "code",
   "execution_count": 2,
   "metadata": {},
   "outputs": [],
   "source": [
    "import pandas as pd\n",
    "import matplotlib.pyplot as plt\n",
    "import matplotlib\n",
    "from sklearn.preprocessing import LabelEncoder\n",
    "matplotlib.use('QtAgg')\n",
    "\n",
    "from statsmodels.stats.weightstats import CompareMeans\n",
    "import statsmodels.formula.api as smf\n",
    "import missingno as msno\n",
    "from sklearn.experimental import enable_iterative_imputer\n",
    "from sklearn.impute import IterativeImputer\n",
    "from sklearn.linear_model import LogisticRegressionCV\n",
    "from sklearn.ensemble import ExtraTreesClassifier, ExtraTreesRegressor\n",
    "from sklearn.model_selection import train_test_split\n",
    "from collections import defaultdict"
   ]
  },
  {
   "cell_type": "markdown",
   "metadata": {},
   "source": [
    "Let's now import the two datasets and merge them."
   ]
  },
  {
   "cell_type": "code",
   "execution_count": 3,
   "metadata": {},
   "outputs": [
    {
     "data": {
      "text/plain": [
       "both          520\n",
       "left_only       0\n",
       "right_only      0\n",
       "Name: _merge, dtype: int64"
      ]
     },
     "execution_count": 3,
     "metadata": {},
     "output_type": "execute_result"
    }
   ],
   "source": [
    "recipients = pd.read_csv('recipients.csv')\n",
    "attempts = pd.read_csv('survey_attempts.csv')\n",
    "merged = pd.merge(recipients, attempts, on='recipient_id', how='left', indicator=True)\n",
    "merged._merge.value_counts(dropna=False)\n"
   ]
  },
  {
   "cell_type": "markdown",
   "metadata": {},
   "source": [
    "It looks like all the recipients are matched with survey attempts. We can drop the `_merge` variable."
   ]
  },
  {
   "cell_type": "code",
   "execution_count": 4,
   "metadata": {},
   "outputs": [],
   "source": [
    "merged.drop(columns='_merge', inplace=True)"
   ]
  },
  {
   "cell_type": "markdown",
   "metadata": {},
   "source": [
    "A quick glance at our data."
   ]
  },
  {
   "cell_type": "code",
   "execution_count": 5,
   "metadata": {},
   "outputs": [
    {
     "data": {
      "text/html": [
       "<div>\n",
       "<style scoped>\n",
       "    .dataframe tbody tr th:only-of-type {\n",
       "        vertical-align: middle;\n",
       "    }\n",
       "\n",
       "    .dataframe tbody tr th {\n",
       "        vertical-align: top;\n",
       "    }\n",
       "\n",
       "    .dataframe thead th {\n",
       "        text-align: right;\n",
       "    }\n",
       "</style>\n",
       "<table border=\"1\" class=\"dataframe\">\n",
       "  <thead>\n",
       "    <tr style=\"text-align: right;\">\n",
       "      <th></th>\n",
       "      <th>recipient_id</th>\n",
       "      <th>county</th>\n",
       "      <th>time_county</th>\n",
       "      <th>age</th>\n",
       "      <th>account_number</th>\n",
       "      <th>account_status</th>\n",
       "      <th>survey_id</th>\n",
       "      <th>date</th>\n",
       "      <th>success</th>\n",
       "    </tr>\n",
       "  </thead>\n",
       "  <tbody>\n",
       "    <tr>\n",
       "      <th>0</th>\n",
       "      <td>r-00085</td>\n",
       "      <td>County B</td>\n",
       "      <td>22.0</td>\n",
       "      <td>22.0</td>\n",
       "      <td>100000022.0</td>\n",
       "      <td>NaN</td>\n",
       "      <td>s-000342</td>\n",
       "      <td>12/23/20</td>\n",
       "      <td>True</td>\n",
       "    </tr>\n",
       "    <tr>\n",
       "      <th>1</th>\n",
       "      <td>r-00085</td>\n",
       "      <td>County B</td>\n",
       "      <td>22.0</td>\n",
       "      <td>22.0</td>\n",
       "      <td>100000022.0</td>\n",
       "      <td>NaN</td>\n",
       "      <td>s-000448</td>\n",
       "      <td>11/25/20</td>\n",
       "      <td>False</td>\n",
       "    </tr>\n",
       "    <tr>\n",
       "      <th>2</th>\n",
       "      <td>r-00082</td>\n",
       "      <td>County C</td>\n",
       "      <td>29.0</td>\n",
       "      <td>31.0</td>\n",
       "      <td>100000023.0</td>\n",
       "      <td>Not Active</td>\n",
       "      <td>s-000151</td>\n",
       "      <td>12/20/20</td>\n",
       "      <td>True</td>\n",
       "    </tr>\n",
       "    <tr>\n",
       "      <th>3</th>\n",
       "      <td>r-00082</td>\n",
       "      <td>County C</td>\n",
       "      <td>29.0</td>\n",
       "      <td>31.0</td>\n",
       "      <td>100000023.0</td>\n",
       "      <td>Not Active</td>\n",
       "      <td>s-000305</td>\n",
       "      <td>11/22/20</td>\n",
       "      <td>False</td>\n",
       "    </tr>\n",
       "    <tr>\n",
       "      <th>4</th>\n",
       "      <td>r-00048</td>\n",
       "      <td>County C</td>\n",
       "      <td>22.0</td>\n",
       "      <td>24.0</td>\n",
       "      <td>100000035.0</td>\n",
       "      <td>Active</td>\n",
       "      <td>s-000108</td>\n",
       "      <td>11/28/20</td>\n",
       "      <td>False</td>\n",
       "    </tr>\n",
       "    <tr>\n",
       "      <th>5</th>\n",
       "      <td>r-00048</td>\n",
       "      <td>County C</td>\n",
       "      <td>22.0</td>\n",
       "      <td>24.0</td>\n",
       "      <td>100000035.0</td>\n",
       "      <td>Active</td>\n",
       "      <td>s-000116</td>\n",
       "      <td>01/17/21</td>\n",
       "      <td>True</td>\n",
       "    </tr>\n",
       "    <tr>\n",
       "      <th>6</th>\n",
       "      <td>r-00048</td>\n",
       "      <td>County C</td>\n",
       "      <td>22.0</td>\n",
       "      <td>24.0</td>\n",
       "      <td>100000035.0</td>\n",
       "      <td>Active</td>\n",
       "      <td>s-000439</td>\n",
       "      <td>11/18/20</td>\n",
       "      <td>False</td>\n",
       "    </tr>\n",
       "    <tr>\n",
       "      <th>7</th>\n",
       "      <td>r-00096</td>\n",
       "      <td>County B</td>\n",
       "      <td>22.0</td>\n",
       "      <td>25.0</td>\n",
       "      <td>100000166.0</td>\n",
       "      <td>Active</td>\n",
       "      <td>s-000077</td>\n",
       "      <td>11/06/20</td>\n",
       "      <td>False</td>\n",
       "    </tr>\n",
       "    <tr>\n",
       "      <th>8</th>\n",
       "      <td>r-00096</td>\n",
       "      <td>County B</td>\n",
       "      <td>22.0</td>\n",
       "      <td>25.0</td>\n",
       "      <td>100000166.0</td>\n",
       "      <td>Active</td>\n",
       "      <td>s-000130</td>\n",
       "      <td>01/03/21</td>\n",
       "      <td>True</td>\n",
       "    </tr>\n",
       "    <tr>\n",
       "      <th>9</th>\n",
       "      <td>r-00064</td>\n",
       "      <td>County D</td>\n",
       "      <td>24.0</td>\n",
       "      <td>26.0</td>\n",
       "      <td>100000076.0</td>\n",
       "      <td>Active</td>\n",
       "      <td>s-000352</td>\n",
       "      <td>11/04/20</td>\n",
       "      <td>False</td>\n",
       "    </tr>\n",
       "  </tbody>\n",
       "</table>\n",
       "</div>"
      ],
      "text/plain": [
       "  recipient_id    county  time_county   age  account_number account_status  \\\n",
       "0      r-00085  County B         22.0  22.0     100000022.0            NaN   \n",
       "1      r-00085  County B         22.0  22.0     100000022.0            NaN   \n",
       "2      r-00082  County C         29.0  31.0     100000023.0     Not Active   \n",
       "3      r-00082  County C         29.0  31.0     100000023.0     Not Active   \n",
       "4      r-00048  County C         22.0  24.0     100000035.0         Active   \n",
       "5      r-00048  County C         22.0  24.0     100000035.0         Active   \n",
       "6      r-00048  County C         22.0  24.0     100000035.0         Active   \n",
       "7      r-00096  County B         22.0  25.0     100000166.0         Active   \n",
       "8      r-00096  County B         22.0  25.0     100000166.0         Active   \n",
       "9      r-00064  County D         24.0  26.0     100000076.0         Active   \n",
       "\n",
       "  survey_id      date  success  \n",
       "0  s-000342  12/23/20     True  \n",
       "1  s-000448  11/25/20    False  \n",
       "2  s-000151  12/20/20     True  \n",
       "3  s-000305  11/22/20    False  \n",
       "4  s-000108  11/28/20    False  \n",
       "5  s-000116  01/17/21     True  \n",
       "6  s-000439  11/18/20    False  \n",
       "7  s-000077  11/06/20    False  \n",
       "8  s-000130  01/03/21     True  \n",
       "9  s-000352  11/04/20    False  "
      ]
     },
     "execution_count": 5,
     "metadata": {},
     "output_type": "execute_result"
    }
   ],
   "source": [
    "merged.head(10)"
   ]
  },
  {
   "cell_type": "markdown",
   "metadata": {},
   "source": [
    "Check for duplicates. We expect that `recipient_id` and `survey_id` together form a unique id.\n"
   ]
  },
  {
   "cell_type": "code",
   "execution_count": 6,
   "metadata": {},
   "outputs": [
    {
     "data": {
      "text/html": [
       "<div>\n",
       "<style scoped>\n",
       "    .dataframe tbody tr th:only-of-type {\n",
       "        vertical-align: middle;\n",
       "    }\n",
       "\n",
       "    .dataframe tbody tr th {\n",
       "        vertical-align: top;\n",
       "    }\n",
       "\n",
       "    .dataframe thead th {\n",
       "        text-align: right;\n",
       "    }\n",
       "</style>\n",
       "<table border=\"1\" class=\"dataframe\">\n",
       "  <thead>\n",
       "    <tr style=\"text-align: right;\">\n",
       "      <th></th>\n",
       "      <th>recipient_id</th>\n",
       "      <th>county</th>\n",
       "      <th>time_county</th>\n",
       "      <th>age</th>\n",
       "      <th>account_number</th>\n",
       "      <th>account_status</th>\n",
       "      <th>survey_id</th>\n",
       "      <th>date</th>\n",
       "      <th>success</th>\n",
       "    </tr>\n",
       "  </thead>\n",
       "  <tbody>\n",
       "    <tr>\n",
       "      <th>15</th>\n",
       "      <td>r-00100</td>\n",
       "      <td>County C</td>\n",
       "      <td>30.0</td>\n",
       "      <td>32.0</td>\n",
       "      <td>100000107.0</td>\n",
       "      <td>Active</td>\n",
       "      <td>s-000045</td>\n",
       "      <td>11/10/20</td>\n",
       "      <td>False</td>\n",
       "    </tr>\n",
       "    <tr>\n",
       "      <th>17</th>\n",
       "      <td>r-00100</td>\n",
       "      <td>County C</td>\n",
       "      <td>30.0</td>\n",
       "      <td>32.0</td>\n",
       "      <td>100000107.0</td>\n",
       "      <td>Active</td>\n",
       "      <td>s-000045</td>\n",
       "      <td>11/10/20</td>\n",
       "      <td>False</td>\n",
       "    </tr>\n",
       "    <tr>\n",
       "      <th>19</th>\n",
       "      <td>r-00030</td>\n",
       "      <td>County C</td>\n",
       "      <td>23.0</td>\n",
       "      <td>26.0</td>\n",
       "      <td>100000179.0</td>\n",
       "      <td>Active</td>\n",
       "      <td>s-000036</td>\n",
       "      <td>11/10/20</td>\n",
       "      <td>False</td>\n",
       "    </tr>\n",
       "    <tr>\n",
       "      <th>22</th>\n",
       "      <td>r-00030</td>\n",
       "      <td>County C</td>\n",
       "      <td>23.0</td>\n",
       "      <td>26.0</td>\n",
       "      <td>100000179.0</td>\n",
       "      <td>Active</td>\n",
       "      <td>s-000036</td>\n",
       "      <td>11/10/20</td>\n",
       "      <td>False</td>\n",
       "    </tr>\n",
       "    <tr>\n",
       "      <th>28</th>\n",
       "      <td>r-00193</td>\n",
       "      <td>County B</td>\n",
       "      <td>10.0</td>\n",
       "      <td>62.0</td>\n",
       "      <td>100000977.0</td>\n",
       "      <td>Active</td>\n",
       "      <td>s-000018</td>\n",
       "      <td>01/22/21</td>\n",
       "      <td>False</td>\n",
       "    </tr>\n",
       "    <tr>\n",
       "      <th>...</th>\n",
       "      <td>...</td>\n",
       "      <td>...</td>\n",
       "      <td>...</td>\n",
       "      <td>...</td>\n",
       "      <td>...</td>\n",
       "      <td>...</td>\n",
       "      <td>...</td>\n",
       "      <td>...</td>\n",
       "      <td>...</td>\n",
       "    </tr>\n",
       "    <tr>\n",
       "      <th>506</th>\n",
       "      <td>r-00191</td>\n",
       "      <td>County B</td>\n",
       "      <td>10.0</td>\n",
       "      <td>62.0</td>\n",
       "      <td>100000126.0</td>\n",
       "      <td>Active</td>\n",
       "      <td>s-000026</td>\n",
       "      <td>12/11/20</td>\n",
       "      <td>False</td>\n",
       "    </tr>\n",
       "    <tr>\n",
       "      <th>510</th>\n",
       "      <td>r-00036</td>\n",
       "      <td>County C</td>\n",
       "      <td>32.0</td>\n",
       "      <td>32.0</td>\n",
       "      <td>100000183.0</td>\n",
       "      <td>Active</td>\n",
       "      <td>s-000003</td>\n",
       "      <td>11/16/20</td>\n",
       "      <td>False</td>\n",
       "    </tr>\n",
       "    <tr>\n",
       "      <th>513</th>\n",
       "      <td>r-00036</td>\n",
       "      <td>County C</td>\n",
       "      <td>32.0</td>\n",
       "      <td>32.0</td>\n",
       "      <td>100000183.0</td>\n",
       "      <td>Active</td>\n",
       "      <td>s-000003</td>\n",
       "      <td>11/16/20</td>\n",
       "      <td>False</td>\n",
       "    </tr>\n",
       "    <tr>\n",
       "      <th>518</th>\n",
       "      <td>r-00122</td>\n",
       "      <td>County A</td>\n",
       "      <td>8.0</td>\n",
       "      <td>49.0</td>\n",
       "      <td>100000013.0</td>\n",
       "      <td>Not Active</td>\n",
       "      <td>s-000005</td>\n",
       "      <td>01/29/21</td>\n",
       "      <td>True</td>\n",
       "    </tr>\n",
       "    <tr>\n",
       "      <th>519</th>\n",
       "      <td>r-00122</td>\n",
       "      <td>County A</td>\n",
       "      <td>8.0</td>\n",
       "      <td>49.0</td>\n",
       "      <td>100000013.0</td>\n",
       "      <td>Not Active</td>\n",
       "      <td>s-000005</td>\n",
       "      <td>01/29/21</td>\n",
       "      <td>True</td>\n",
       "    </tr>\n",
       "  </tbody>\n",
       "</table>\n",
       "<p>100 rows × 9 columns</p>\n",
       "</div>"
      ],
      "text/plain": [
       "    recipient_id    county  time_county   age  account_number account_status  \\\n",
       "15       r-00100  County C         30.0  32.0     100000107.0         Active   \n",
       "17       r-00100  County C         30.0  32.0     100000107.0         Active   \n",
       "19       r-00030  County C         23.0  26.0     100000179.0         Active   \n",
       "22       r-00030  County C         23.0  26.0     100000179.0         Active   \n",
       "28       r-00193  County B         10.0  62.0     100000977.0         Active   \n",
       "..           ...       ...          ...   ...             ...            ...   \n",
       "506      r-00191  County B         10.0  62.0     100000126.0         Active   \n",
       "510      r-00036  County C         32.0  32.0     100000183.0         Active   \n",
       "513      r-00036  County C         32.0  32.0     100000183.0         Active   \n",
       "518      r-00122  County A          8.0  49.0     100000013.0     Not Active   \n",
       "519      r-00122  County A          8.0  49.0     100000013.0     Not Active   \n",
       "\n",
       "    survey_id      date  success  \n",
       "15   s-000045  11/10/20    False  \n",
       "17   s-000045  11/10/20    False  \n",
       "19   s-000036  11/10/20    False  \n",
       "22   s-000036  11/10/20    False  \n",
       "28   s-000018  01/22/21    False  \n",
       "..        ...       ...      ...  \n",
       "506  s-000026  12/11/20    False  \n",
       "510  s-000003  11/16/20    False  \n",
       "513  s-000003  11/16/20    False  \n",
       "518  s-000005  01/29/21     True  \n",
       "519  s-000005  01/29/21     True  \n",
       "\n",
       "[100 rows x 9 columns]"
      ]
     },
     "execution_count": 6,
     "metadata": {},
     "output_type": "execute_result"
    }
   ],
   "source": [
    "merged[merged.duplicated(subset=['recipient_id', 'survey_id'], keep=False)]"
   ]
  },
  {
   "cell_type": "markdown",
   "metadata": {},
   "source": [
    "There are 50 pairs of duplicates that need to be dropped.  "
   ]
  },
  {
   "cell_type": "code",
   "execution_count": 7,
   "metadata": {},
   "outputs": [],
   "source": [
    "merged = merged.drop_duplicates(subset=['recipient_id', 'survey_id'], keep='first').reset_index(drop=True)\n"
   ]
  },
  {
   "cell_type": "markdown",
   "metadata": {},
   "source": [
    "Let's now calculate the stage variable, starting with 'Start'."
   ]
  },
  {
   "cell_type": "code",
   "execution_count": 8,
   "metadata": {},
   "outputs": [],
   "source": [
    "mask = merged.groupby('recipient_id')['success'].any()\n",
    "one_success = [mask.index[i] for i, m in enumerate(mask) if m]\n",
    "# Set the value to start for those with no successful surveys. '~' negates the value \n",
    "# of the mask. In this case, '~' means find those without any successful survey\n",
    "merged.loc[~merged.recipient_id.isin(one_success), 'stage'] = 'Start'"
   ]
  },
  {
   "cell_type": "markdown",
   "metadata": {},
   "source": [
    "Next, the 'Ineligible' stage"
   ]
  },
  {
   "cell_type": "code",
   "execution_count": 9,
   "metadata": {},
   "outputs": [],
   "source": [
    "# Remove the text 'County' from the column\n",
    "merged.county = merged.county.str.replace('County ', '', regex=False)\n",
    "    \n",
    "inABC = merged.county.isin(['A', 'B', 'C'])\n",
    "recipient_noABC = merged.recipient_id[~inABC]\n",
    "\n",
    "merged.loc[merged.recipient_id.isin(one_success) &\n",
    "    merged.recipient_id.isin(recipient_noABC), 'stage'] = 'Ineligible'"
   ]
  },
  {
   "cell_type": "markdown",
   "metadata": {},
   "source": [
    "The 'Review' stage"
   ]
  },
  {
   "cell_type": "code",
   "execution_count": 10,
   "metadata": {},
   "outputs": [],
   "source": [
    "recipient_yesABC = merged.recipient_id[inABC]\n",
    "notActive = merged.account_status == 'Not Active'\n",
    "recipient_notActive = merged.recipient_id[notActive]\n",
    "\n",
    "merged.loc[merged.recipient_id.isin(one_success) &\n",
    "           merged.recipient_id.isin(recipient_yesABC) &\n",
    "           merged.recipient_id.isin(recipient_notActive),\n",
    "           'stage'] = 'Review'"
   ]
  },
  {
   "cell_type": "markdown",
   "metadata": {},
   "source": [
    "And finally the 'Pay' stage"
   ]
  },
  {
   "cell_type": "code",
   "execution_count": 11,
   "metadata": {},
   "outputs": [],
   "source": [
    "active = merged.account_status == 'Active'\n",
    "recipient_active = merged.recipient_id[active]\n",
    "merged.loc[merged.recipient_id.isin(one_success) &\n",
    "           merged.recipient_id.isin(recipient_yesABC) &\n",
    "           merged.recipient_id.isin(recipient_active), 'stage'] = 'Pay'"
   ]
  },
  {
   "cell_type": "markdown",
   "metadata": {},
   "source": [
    "### 1.1 How many recipients in each stage?"
   ]
  },
  {
   "cell_type": "code",
   "execution_count": 12,
   "metadata": {},
   "outputs": [
    {
     "data": {
      "text/plain": [
       "Pay           209\n",
       "Start         150\n",
       "Ineligible     70\n",
       "Review         35\n",
       "NaN             6\n",
       "Name: stage, dtype: int64"
      ]
     },
     "execution_count": 12,
     "metadata": {},
     "output_type": "execute_result"
    }
   ],
   "source": [
    "merged.stage.value_counts(dropna=False)"
   ]
  },
  {
   "cell_type": "markdown",
   "metadata": {},
   "source": [
    "There are 209 in the 'Pay' stage, 150 in the 'Start', 70 'Ineligible', 35 in 'Review', and 6 not in any stage.\n",
    "This is because there are 6 recipients with a missing `account_status`. "
   ]
  },
  {
   "cell_type": "code",
   "execution_count": 13,
   "metadata": {},
   "outputs": [
    {
     "data": {
      "text/html": [
       "<div>\n",
       "<style scoped>\n",
       "    .dataframe tbody tr th:only-of-type {\n",
       "        vertical-align: middle;\n",
       "    }\n",
       "\n",
       "    .dataframe tbody tr th {\n",
       "        vertical-align: top;\n",
       "    }\n",
       "\n",
       "    .dataframe thead th {\n",
       "        text-align: right;\n",
       "    }\n",
       "</style>\n",
       "<table border=\"1\" class=\"dataframe\">\n",
       "  <thead>\n",
       "    <tr style=\"text-align: right;\">\n",
       "      <th></th>\n",
       "      <th>recipient_id</th>\n",
       "      <th>county</th>\n",
       "      <th>time_county</th>\n",
       "      <th>age</th>\n",
       "      <th>account_number</th>\n",
       "      <th>account_status</th>\n",
       "      <th>survey_id</th>\n",
       "      <th>date</th>\n",
       "      <th>success</th>\n",
       "      <th>stage</th>\n",
       "    </tr>\n",
       "  </thead>\n",
       "  <tbody>\n",
       "    <tr>\n",
       "      <th>0</th>\n",
       "      <td>r-00085</td>\n",
       "      <td>B</td>\n",
       "      <td>22.0</td>\n",
       "      <td>22.0</td>\n",
       "      <td>100000022.0</td>\n",
       "      <td>NaN</td>\n",
       "      <td>s-000342</td>\n",
       "      <td>12/23/20</td>\n",
       "      <td>True</td>\n",
       "      <td>NaN</td>\n",
       "    </tr>\n",
       "    <tr>\n",
       "      <th>1</th>\n",
       "      <td>r-00085</td>\n",
       "      <td>B</td>\n",
       "      <td>22.0</td>\n",
       "      <td>22.0</td>\n",
       "      <td>100000022.0</td>\n",
       "      <td>NaN</td>\n",
       "      <td>s-000448</td>\n",
       "      <td>11/25/20</td>\n",
       "      <td>False</td>\n",
       "      <td>NaN</td>\n",
       "    </tr>\n",
       "    <tr>\n",
       "      <th>14</th>\n",
       "      <td>r-00145</td>\n",
       "      <td>A</td>\n",
       "      <td>22.0</td>\n",
       "      <td>24.0</td>\n",
       "      <td>100000089.0</td>\n",
       "      <td>NaN</td>\n",
       "      <td>s-000137</td>\n",
       "      <td>12/21/20</td>\n",
       "      <td>True</td>\n",
       "      <td>NaN</td>\n",
       "    </tr>\n",
       "    <tr>\n",
       "      <th>50</th>\n",
       "      <td>r-00045</td>\n",
       "      <td>C</td>\n",
       "      <td>26.0</td>\n",
       "      <td>30.0</td>\n",
       "      <td>100000199.0</td>\n",
       "      <td>NaN</td>\n",
       "      <td>s-000161</td>\n",
       "      <td>11/25/20</td>\n",
       "      <td>False</td>\n",
       "      <td>NaN</td>\n",
       "    </tr>\n",
       "    <tr>\n",
       "      <th>51</th>\n",
       "      <td>r-00045</td>\n",
       "      <td>C</td>\n",
       "      <td>26.0</td>\n",
       "      <td>30.0</td>\n",
       "      <td>100000199.0</td>\n",
       "      <td>NaN</td>\n",
       "      <td>s-000236</td>\n",
       "      <td>11/15/20</td>\n",
       "      <td>False</td>\n",
       "      <td>NaN</td>\n",
       "    </tr>\n",
       "    <tr>\n",
       "      <th>52</th>\n",
       "      <td>r-00045</td>\n",
       "      <td>C</td>\n",
       "      <td>26.0</td>\n",
       "      <td>30.0</td>\n",
       "      <td>100000199.0</td>\n",
       "      <td>NaN</td>\n",
       "      <td>s-000337</td>\n",
       "      <td>01/14/21</td>\n",
       "      <td>True</td>\n",
       "      <td>NaN</td>\n",
       "    </tr>\n",
       "  </tbody>\n",
       "</table>\n",
       "</div>"
      ],
      "text/plain": [
       "   recipient_id county  time_county   age  account_number account_status  \\\n",
       "0       r-00085      B         22.0  22.0     100000022.0            NaN   \n",
       "1       r-00085      B         22.0  22.0     100000022.0            NaN   \n",
       "14      r-00145      A         22.0  24.0     100000089.0            NaN   \n",
       "50      r-00045      C         26.0  30.0     100000199.0            NaN   \n",
       "51      r-00045      C         26.0  30.0     100000199.0            NaN   \n",
       "52      r-00045      C         26.0  30.0     100000199.0            NaN   \n",
       "\n",
       "   survey_id      date  success stage  \n",
       "0   s-000342  12/23/20     True   NaN  \n",
       "1   s-000448  11/25/20    False   NaN  \n",
       "14  s-000137  12/21/20     True   NaN  \n",
       "50  s-000161  11/25/20    False   NaN  \n",
       "51  s-000236  11/15/20    False   NaN  \n",
       "52  s-000337  01/14/21     True   NaN  "
      ]
     },
     "execution_count": 13,
     "metadata": {},
     "output_type": "execute_result"
    }
   ],
   "source": [
    "merged.loc[merged.stage.isna()]"
   ]
  },
  {
   "cell_type": "markdown",
   "metadata": {},
   "source": [
    "We will impute a value for recipients with a missing `account_status`,\n",
    "but it could be worthwhile to follow up with someone for the appropriate status."
   ]
  },
  {
   "cell_type": "markdown",
   "metadata": {},
   "source": [
    "### 1.2 How many successful surveys in December?"
   ]
  },
  {
   "cell_type": "code",
   "execution_count": 14,
   "metadata": {},
   "outputs": [
    {
     "data": {
      "text/plain": [
       "month\n",
       "01    77\n",
       "11     0\n",
       "12    93\n",
       "Name: success, dtype: int64"
      ]
     },
     "execution_count": 14,
     "metadata": {},
     "output_type": "execute_result"
    }
   ],
   "source": [
    "merged['month'] = merged['date'].astype(str).str[:2]\n",
    "merged.groupby('month')['success'].sum()"
   ]
  },
  {
   "cell_type": "markdown",
   "metadata": {},
   "source": [
    "There were 93 successful surveys in December."
   ]
  },
  {
   "cell_type": "markdown",
   "metadata": {},
   "source": [
    "### 1.3 Abnormalities in the source data"
   ]
  },
  {
   "cell_type": "markdown",
   "metadata": {},
   "source": [
    "There were duplicates in the data that had to be dropped. Some values also did not make much sense and were assgined missing value. The missing data was later imputed."
   ]
  },
  {
   "cell_type": "code",
   "execution_count": 15,
   "metadata": {},
   "outputs": [
    {
     "data": {
      "text/html": [
       "<div>\n",
       "<style scoped>\n",
       "    .dataframe tbody tr th:only-of-type {\n",
       "        vertical-align: middle;\n",
       "    }\n",
       "\n",
       "    .dataframe tbody tr th {\n",
       "        vertical-align: top;\n",
       "    }\n",
       "\n",
       "    .dataframe thead th {\n",
       "        text-align: right;\n",
       "    }\n",
       "</style>\n",
       "<table border=\"1\" class=\"dataframe\">\n",
       "  <thead>\n",
       "    <tr style=\"text-align: right;\">\n",
       "      <th></th>\n",
       "      <th>time_county</th>\n",
       "      <th>age</th>\n",
       "      <th>account_number</th>\n",
       "    </tr>\n",
       "  </thead>\n",
       "  <tbody>\n",
       "    <tr>\n",
       "      <th>count</th>\n",
       "      <td>455.000000</td>\n",
       "      <td>460.000000</td>\n",
       "      <td>4.630000e+02</td>\n",
       "    </tr>\n",
       "    <tr>\n",
       "      <th>mean</th>\n",
       "      <td>19.138462</td>\n",
       "      <td>124.126087</td>\n",
       "      <td>1.000001e+08</td>\n",
       "    </tr>\n",
       "    <tr>\n",
       "      <th>std</th>\n",
       "      <td>10.501550</td>\n",
       "      <td>925.986058</td>\n",
       "      <td>1.074233e+02</td>\n",
       "    </tr>\n",
       "    <tr>\n",
       "      <th>min</th>\n",
       "      <td>-45.000000</td>\n",
       "      <td>20.000000</td>\n",
       "      <td>1.000000e+08</td>\n",
       "    </tr>\n",
       "    <tr>\n",
       "      <th>25%</th>\n",
       "      <td>10.000000</td>\n",
       "      <td>25.000000</td>\n",
       "      <td>1.000001e+08</td>\n",
       "    </tr>\n",
       "    <tr>\n",
       "      <th>50%</th>\n",
       "      <td>21.000000</td>\n",
       "      <td>32.000000</td>\n",
       "      <td>1.000001e+08</td>\n",
       "    </tr>\n",
       "    <tr>\n",
       "      <th>75%</th>\n",
       "      <td>28.000000</td>\n",
       "      <td>51.000000</td>\n",
       "      <td>1.000002e+08</td>\n",
       "    </tr>\n",
       "    <tr>\n",
       "      <th>max</th>\n",
       "      <td>35.000000</td>\n",
       "      <td>9999.000000</td>\n",
       "      <td>1.000010e+08</td>\n",
       "    </tr>\n",
       "  </tbody>\n",
       "</table>\n",
       "</div>"
      ],
      "text/plain": [
       "       time_county          age  account_number\n",
       "count   455.000000   460.000000    4.630000e+02\n",
       "mean     19.138462   124.126087    1.000001e+08\n",
       "std      10.501550   925.986058    1.074233e+02\n",
       "min     -45.000000    20.000000    1.000000e+08\n",
       "25%      10.000000    25.000000    1.000001e+08\n",
       "50%      21.000000    32.000000    1.000001e+08\n",
       "75%      28.000000    51.000000    1.000002e+08\n",
       "max      35.000000  9999.000000    1.000010e+08"
      ]
     },
     "execution_count": 15,
     "metadata": {},
     "output_type": "execute_result"
    }
   ],
   "source": [
    "merged.describe()"
   ]
  },
  {
   "cell_type": "markdown",
   "metadata": {},
   "source": [
    "`time_county` has a minimum of -45 and `age` has a max of 9999. To deal with these problematic cases, I replace them with missing values to be imputed later. It could also be good to follow up with other teams on the correct value."
   ]
  },
  {
   "cell_type": "code",
   "execution_count": 16,
   "metadata": {},
   "outputs": [
    {
     "name": "stderr",
     "output_type": "stream",
     "text": [
      "/tmp/ipykernel_51749/1017566221.py:1: FutureWarning: The pandas.np module is deprecated and will be removed from pandas in a future version. Import numpy directly instead.\n",
      "  merged.age[merged.age == 9999] = pd.np.nan\n",
      "/tmp/ipykernel_51749/1017566221.py:1: SettingWithCopyWarning: \n",
      "A value is trying to be set on a copy of a slice from a DataFrame\n",
      "\n",
      "See the caveats in the documentation: https://pandas.pydata.org/pandas-docs/stable/user_guide/indexing.html#returning-a-view-versus-a-copy\n",
      "  merged.age[merged.age == 9999] = pd.np.nan\n",
      "/tmp/ipykernel_51749/1017566221.py:2: FutureWarning: The pandas.np module is deprecated and will be removed from pandas in a future version. Import numpy directly instead.\n",
      "  merged.time_county[merged.time_county < 0] = pd.np.nan\n",
      "/tmp/ipykernel_51749/1017566221.py:2: SettingWithCopyWarning: \n",
      "A value is trying to be set on a copy of a slice from a DataFrame\n",
      "\n",
      "See the caveats in the documentation: https://pandas.pydata.org/pandas-docs/stable/user_guide/indexing.html#returning-a-view-versus-a-copy\n",
      "  merged.time_county[merged.time_county < 0] = pd.np.nan\n"
     ]
    }
   ],
   "source": [
    "\n",
    "merged.age[merged.age == 9999] = pd.np.nan \n",
    "merged.time_county[merged.time_county < 0] = pd.np.nan"
   ]
  },
  {
   "cell_type": "markdown",
   "metadata": {},
   "source": [
    "There are missing values in the data as well. Six columns have missing data."
   ]
  },
  {
   "cell_type": "code",
   "execution_count": 17,
   "metadata": {},
   "outputs": [
    {
     "data": {
      "text/plain": [
       "recipient_id       0\n",
       "county             8\n",
       "time_county       20\n",
       "age               14\n",
       "account_number     7\n",
       "account_status    13\n",
       "survey_id          0\n",
       "date               0\n",
       "success            0\n",
       "stage              6\n",
       "month              0\n",
       "dtype: int64"
      ]
     },
     "execution_count": 17,
     "metadata": {},
     "output_type": "execute_result"
    }
   ],
   "source": [
    "merged.isna().sum()"
   ]
  },
  {
   "cell_type": "markdown",
   "metadata": {},
   "source": [
    "Missing data is usually deleted or imputed. Deleting missing data is easiest, but it can lead to biases if the data is not missing at random. If `age` is more likely to be missing in certain counties, for example, deleting missing data isn't the best approach. If the data is missing completely at random or missing at random, it can be deleted.\n",
    "\n",
    "If there are many missing values in a row, the row can be deleted. Likewise, if there are many missing values in a column, the column can be deleted. \n",
    "\n",
    "Imputation can be as simple as replacing the missing value in a column with an arbitrary value such as '0' or the column mean or mode. Other techniques take into account the values in other columns. Suppose a recipient has a missing `age`, but lives in a certain county and has also responded to the survey. Then the `age` might be imputed to be slightly lower because of a correlation between `success` and `age` or `county` and `age`. See more [here](https://www.analyticsvidhya.com/blog/2021/10/handling-missing-value/#h2_2)."
   ]
  },
  {
   "cell_type": "markdown",
   "metadata": {},
   "source": [
    "We can investigate the missing data with the `missingno` package."
   ]
  },
  {
   "cell_type": "code",
   "execution_count": 18,
   "metadata": {},
   "outputs": [
    {
     "name": "stderr",
     "output_type": "stream",
     "text": [
      "/tmp/ipykernel_51749/2359591310.py:5: UserWarning: This figure includes Axes that are not compatible with tight_layout, so results might be incorrect.\n",
      "  plt.tight_layout()\n"
     ]
    },
    {
     "data": {
      "image/png": "[encoded data removed]",
      "text/plain": [
       "<Figure size 1800x720 with 2 Axes>"
      ]
     },
     "metadata": {
      "needs_background": "light"
     },
     "output_type": "display_data"
    }
   ],
   "source": [
    "%matplotlib inline\n",
    "\n",
    "msno.matrix(merged)\n",
    "plt.xticks(rotation=15)\n",
    "plt.tight_layout()\n",
    "plt.show()"
   ]
  },
  {
   "cell_type": "markdown",
   "metadata": {},
   "source": [
    "The white lines represent missing values. The `account_number` and `account_status` appear to have coinciding missing values, and the same for `age` and `time_county`. We can visualize these relationships with a heatmap."
   ]
  },
  {
   "cell_type": "code",
   "execution_count": 19,
   "metadata": {},
   "outputs": [
    {
     "data": {
      "image/png": "[encoded data removed]",
      "text/plain": [
       "<Figure size 1440x864 with 2 Axes>"
      ]
     },
     "metadata": {
      "needs_background": "light"
     },
     "output_type": "display_data"
    }
   ],
   "source": [
    "%matplotlib inline\n",
    "\n",
    "msno.heatmap(merged, cmap='rainbow')\n",
    "plt.tight_layout()\n",
    "plt.show()"
   ]
  },
  {
   "cell_type": "markdown",
   "metadata": {},
   "source": [
    "There is a strong correlation between `account_number` and `account_status` being missing, which\n",
    "would make sense considering that someone without an `account_number` would not have \n",
    "an `account_status` and vice versa. There is also a strong association between `age` and `time_county` missingness.\n",
    "\n",
    "To investigate this, let's look at recipients with a missing `time_county`."
   ]
  },
  {
   "cell_type": "code",
   "execution_count": 20,
   "metadata": {},
   "outputs": [
    {
     "name": "stdout",
     "output_type": "stream",
     "text": [
      "    recipient_id county  time_county   age  account_number account_status  \\\n",
      "69       r-00070      D          NaN  23.0     100000080.0         Active   \n",
      "70       r-00070      D          NaN  23.0     100000080.0         Active   \n",
      "182      r-00198      B          NaN   NaN     100000006.0         Active   \n",
      "183      r-00198      B          NaN   NaN     100000006.0         Active   \n",
      "184      r-00198      B          NaN   NaN     100000006.0         Active   \n",
      "\n",
      "    survey_id      date  success       stage month  \n",
      "69   s-000252  12/08/20     True  Ineligible    12  \n",
      "70   s-000280  11/10/20    False  Ineligible    11  \n",
      "182  s-000284  01/07/21    False       Start    01  \n",
      "183  s-000285  12/08/20    False       Start    12  \n",
      "184  s-000311  12/18/20    False       Start    12  \n"
     ]
    }
   ],
   "source": [
    "time_county_missing = merged.loc[merged.time_county.isna()]\n",
    "print(time_county_missing.head())"
   ]
  },
  {
   "cell_type": "markdown",
   "metadata": {},
   "source": [
    "And a missing `age`"
   ]
  },
  {
   "cell_type": "code",
   "execution_count": 21,
   "metadata": {},
   "outputs": [
    {
     "name": "stdout",
     "output_type": "stream",
     "text": [
      "    recipient_id county  time_county  age  account_number account_status  \\\n",
      "145      r-00060      B         28.0  NaN     100000018.0     Not Active   \n",
      "146      r-00060      B         28.0  NaN     100000018.0     Not Active   \n",
      "182      r-00198      B          NaN  NaN     100000006.0         Active   \n",
      "183      r-00198      B          NaN  NaN     100000006.0         Active   \n",
      "184      r-00198      B          NaN  NaN     100000006.0         Active   \n",
      "\n",
      "    survey_id      date  success   stage month  \n",
      "145  s-000273  11/30/20    False  Review    11  \n",
      "146  s-000455  01/29/21     True  Review    01  \n",
      "182  s-000284  01/07/21    False   Start    01  \n",
      "183  s-000285  12/08/20    False   Start    12  \n",
      "184  s-000311  12/18/20    False   Start    12  \n"
     ]
    }
   ],
   "source": [
    "age_missing = merged.loc[merged.age.isna()]\n",
    "print(age_missing.head())"
   ]
  },
  {
   "cell_type": "code",
   "execution_count": 22,
   "metadata": {},
   "outputs": [
    {
     "name": "stdout",
     "output_type": "stream",
     "text": [
      "5\n"
     ]
    }
   ],
   "source": [
    "print(time_county_missing.recipient_id.nunique())"
   ]
  },
  {
   "cell_type": "code",
   "execution_count": 23,
   "metadata": {},
   "outputs": [
    {
     "name": "stdout",
     "output_type": "stream",
     "text": [
      "4\n"
     ]
    }
   ],
   "source": [
    "print(age_missing.recipient_id.nunique())"
   ]
  },
  {
   "cell_type": "markdown",
   "metadata": {},
   "source": [
    "So `age` is usually missing when `time_county` is missing. There are five recipients that did not fill in their `age` and four that did not fill in `time_county` for multiple survey attempts. They may have been uncomfortable sharing that information."
   ]
  },
  {
   "cell_type": "markdown",
   "metadata": {},
   "source": [
    "Dropping these rows could lead to bias because they are not missing at random. Let's impute the `age` and `time_county` for them. We'll also impute the `county` and `account_status`, which are categorical variables. The imputation strategy will regress the column with missing data, say `age`, on other columns in the data. It will then use the regression coefficients to predict the missing values for `age`. More details can be found [here](https://scikit-learn.org/stable/modules/impute.html#iterative-imputer), [here](https://www.analyticsvidhya.com/blog/2021/10/handling-missing-value/#h2_2), and [here](https://stackoverflow.com/questions/64900801/implementing-knn-imputation-on-categorical-variables-in-an-sklearn-pipeline)  "
   ]
  },
  {
   "cell_type": "markdown",
   "metadata": {},
   "source": [
    "Starting with the categorical columns, we'll prepare the dataset for imputation by converting `account_status` and `county` to categorical codes."
   ]
  },
  {
   "cell_type": "code",
   "execution_count": 24,
   "metadata": {},
   "outputs": [
    {
     "name": "stdout",
     "output_type": "stream",
     "text": [
      "   account_status  county\n",
      "0              -1       1\n",
      "1              -1       1\n",
      "2               1       2\n",
      "3               1       2\n",
      "4               0       2\n"
     ]
    }
   ],
   "source": [
    "cat_cols_na = ['account_status', 'county']\n",
    "merged[cat_cols_na] = merged[cat_cols_na].astype('category')\n",
    "d_na = {col: {n: cat for n, cat in enumerate(merged[col].cat.categories)}\n",
    "            for col in cat_cols_na}\n",
    "merged[cat_cols_na] = pd.DataFrame(\n",
    "    {col: merged[col].cat.codes for col in cat_cols_na},\n",
    "    index=merged.index\n",
    ")\n",
    "print(merged[cat_cols_na].head())"
   ]
  },
  {
   "cell_type": "markdown",
   "metadata": {},
   "source": [
    "Now we can impute the missing values."
   ]
  },
  {
   "cell_type": "code",
   "execution_count": 25,
   "metadata": {},
   "outputs": [],
   "source": [
    "\n",
    "imp_cat = IterativeImputer(estimator=ExtraTreesClassifier(),\n",
    "                            initial_strategy='most_frequent',\n",
    "                            max_iter=10, random_state=0, missing_values=-1)\n",
    "\n",
    "\n",
    "merged[cat_cols_na] = imp_cat.fit_transform(merged[cat_cols_na])"
   ]
  },
  {
   "cell_type": "markdown",
   "metadata": {},
   "source": [
    "Finally, we convert the numerical codes back to their original labels"
   ]
  },
  {
   "cell_type": "code",
   "execution_count": 26,
   "metadata": {},
   "outputs": [
    {
     "name": "stdout",
     "output_type": "stream",
     "text": [
      "  account_status county\n",
      "0         Active      B\n",
      "1         Active      B\n",
      "2     Not Active      C\n",
      "3     Not Active      C\n",
      "4         Active      C\n"
     ]
    }
   ],
   "source": [
    "for col in cat_cols_na:\n",
    "        merged[col].replace(d_na[col], inplace=True)\n",
    "print(merged[cat_cols_na].head())"
   ]
  },
  {
   "cell_type": "markdown",
   "metadata": {},
   "source": [
    "`age` and `time_county` are numeric variables, so they do not need a conversion."
   ]
  },
  {
   "cell_type": "code",
   "execution_count": 27,
   "metadata": {},
   "outputs": [],
   "source": [
    "num_cols_na = ['age', 'time_county']\n",
    "imp_num = IterativeImputer(estimator=ExtraTreesRegressor(),\n",
    "                               initial_strategy='median',\n",
    "                               max_iter=10, random_state=0)\n",
    "merged[num_cols_na] = imp_num.fit_transform(merged[num_cols_na])"
   ]
  },
  {
   "cell_type": "markdown",
   "metadata": {},
   "source": [
    "Now that `account_status` has been imputed, the `stage` variable can be recalculated because the six missing cases were missing because `account_status` was missing at the time of calculation."
   ]
  },
  {
   "cell_type": "code",
   "execution_count": 28,
   "metadata": {},
   "outputs": [],
   "source": [
    "notActive = merged.account_status == 'Not Active'\n",
    "recipient_notActive = merged.recipient_id[notActive]\n",
    "\n",
    "merged.loc[merged.recipient_id.isin(one_success) &\n",
    "           merged.recipient_id.isin(recipient_yesABC) &\n",
    "           merged.recipient_id.isin(recipient_notActive),\n",
    "           'stage'] = 'Review'"
   ]
  },
  {
   "cell_type": "code",
   "execution_count": 29,
   "metadata": {},
   "outputs": [],
   "source": [
    "active = merged.account_status == 'Active'\n",
    "recipient_active = merged.recipient_id[active]\n",
    "merged.loc[merged.recipient_id.isin(one_success) &\n",
    "           merged.recipient_id.isin(recipient_yesABC) &\n",
    "           merged.recipient_id.isin(recipient_active), 'stage'] = 'Pay'"
   ]
  },
  {
   "cell_type": "markdown",
   "metadata": {},
   "source": [
    "Another look at which columns contain missing data shows that there is only the `account_number` column, which can be ignored for analysis. It also would not be appropriate to impute an identifier."
   ]
  },
  {
   "cell_type": "code",
   "execution_count": 30,
   "metadata": {},
   "outputs": [
    {
     "data": {
      "text/plain": [
       "recipient_id      0\n",
       "county            0\n",
       "time_county       0\n",
       "age               0\n",
       "account_number    7\n",
       "account_status    0\n",
       "survey_id         0\n",
       "date              0\n",
       "success           0\n",
       "stage             0\n",
       "month             0\n",
       "dtype: int64"
      ]
     },
     "execution_count": 30,
     "metadata": {},
     "output_type": "execute_result"
    }
   ],
   "source": [
    "merged.isna().sum()"
   ]
  },
  {
   "cell_type": "markdown",
   "metadata": {},
   "source": [
    "## Question 2"
   ]
  },
  {
   "cell_type": "markdown",
   "metadata": {},
   "source": [
    "2. The program manager has asked for data to help determine whether the field team should focus more effort on calling those in stage Start or following up to resolve issues with those in stage Review. Please write a response to the program manager, including data that may help inform the decision, and some additional factors that you would take into consideration to make the decision. Assume that the program manager’s expertise does not include interpreting data and complex analytics. Please limit your written response to 300 words or less. "
   ]
  },
  {
   "cell_type": "markdown",
   "metadata": {},
   "source": [
    "It would not make sense to calculate the chance of someone having a successful survey based on the `stage` variable because the 'Start' group would have no successful surveys, and the other three groups would have all recipients with at least one successful survey. On the other hand, it would be good to know the chances of someone moving from the 'Review' stage to a 'Pay' stage at a later date, for example. "
   ]
  },
  {
   "cell_type": "code",
   "execution_count": 31,
   "metadata": {},
   "outputs": [
    {
     "data": {
      "text/plain": [
       "0"
      ]
     },
     "execution_count": 31,
     "metadata": {},
     "output_type": "execute_result"
    }
   ],
   "source": [
    "# Check how many recipients have more than one stage\n",
    "(merged.groupby('recipient_id')['stage'].nunique() > 1).sum()"
   ]
  },
  {
   "cell_type": "markdown",
   "metadata": {},
   "source": [
    "There do not appear to be recipients that have changed their `stage`. Let's check for recipients\n",
    "that have changed from 'Not Active' to 'Active' `account_status`."
   ]
  },
  {
   "cell_type": "code",
   "execution_count": 32,
   "metadata": {},
   "outputs": [
    {
     "data": {
      "text/plain": [
       "0"
      ]
     },
     "execution_count": 32,
     "metadata": {},
     "output_type": "execute_result"
    }
   ],
   "source": [
    "(merged.groupby('recipient_id')['account_status'].nunique() > 1).sum()"
   ]
  },
  {
   "cell_type": "markdown",
   "metadata": {},
   "source": [
    "No recipients have changed from 'Not Active' to 'Active' `account_status` either.\n"
   ]
  },
  {
   "cell_type": "markdown",
   "metadata": {},
   "source": [
    "One thing to consider is that the 'Start' group has 150 recipients compared to only 35 in the 'Review' group.\n",
    "The 'Start' group success rate only needs to be 35/150 ~ 23% to match a 100% success rate in the\n",
    "'Review' group. It would be good to look up historical data on the conversion rate from 'Start' to 'Pay' versus 'Review' to 'Pay'. Data on the cost of converting the 'Start' group versus the 'Review' group would also be helpful for the decision."
   ]
  },
  {
   "cell_type": "code",
   "execution_count": 33,
   "metadata": {},
   "outputs": [
    {
     "data": {
      "text/plain": [
       "Pay           215\n",
       "Start         150\n",
       "Ineligible     70\n",
       "Review         35\n",
       "Name: stage, dtype: int64"
      ]
     },
     "execution_count": 33,
     "metadata": {},
     "output_type": "execute_result"
    }
   ],
   "source": [
    "merged.stage.value_counts(dropna=False)"
   ]
  },
  {
   "cell_type": "markdown",
   "metadata": {},
   "source": [
    "## Question 3"
   ]
  },
  {
   "cell_type": "markdown",
   "metadata": {},
   "source": [
    "3. The country director is considering investing resources into proactively conducting in-person surveys with recipients *in the highest age group* across projects to increase overall survey success rate. They believe that this additional cost might outweigh the current costs of repeated failed phone survey attempts, if we can accurately target those recipients *least likely* to respond to a phone survey. \n",
    "    1. What analysis would you provide from the provided project data to help make this decision? Please provide the calculation(s) in the spreadsheet or code that you submit.\n",
    "    2. Are there other factors that might explain the observed survey success rate from this project? Please use your judgment to determine these factors and limit your written response to 400 words or less. "
   ]
  },
  {
   "cell_type": "markdown",
   "metadata": {},
   "source": [
    "### 3.1"
   ]
  },
  {
   "cell_type": "markdown",
   "metadata": {},
   "source": [
    "Let's graph the relationship between `age` and at least one successful survey."
   ]
  },
  {
   "cell_type": "code",
   "execution_count": 34,
   "metadata": {},
   "outputs": [
    {
     "data": {
      "image/png": "[encoded data removed]",
      "text/plain": [
       "<Figure size 432x288 with 1 Axes>"
      ]
     },
     "metadata": {
      "needs_background": "light"
     },
     "output_type": "display_data"
    }
   ],
   "source": [
    "%matplotlib inline\n",
    "\n",
    "merged['one_success'] = 0\n",
    "merged.loc[merged.recipient_id.isin(one_success), 'one_success'] = 1\n",
    "\n",
    "# Create bins for age broken into quartiles\n",
    "merged['age_bin'] = pd.qcut(merged.age, q=4)\n",
    "age_success = merged.groupby('age_bin')['one_success'].sum()\n",
    "age = merged.groupby('age_bin')['one_success'].count()\n",
    "results = age_success.div(age, level='age_bin') * 100\n",
    "\n",
    "results.plot(kind='bar')\n",
    "\n",
    "plt.xticks(rotation=0)\n",
    "plt.xlabel('Age Group')\n",
    "plt.ylabel('% of recipients with at least\\n one successful survey')\n",
    "plt.show()"
   ]
  },
  {
   "cell_type": "markdown",
   "metadata": {},
   "source": [
    "People in the highest age group are the least likely to have at least one successful survey."
   ]
  },
  {
   "cell_type": "markdown",
   "metadata": {},
   "source": [
    "Running logistic regression gives"
   ]
  },
  {
   "cell_type": "code",
   "execution_count": 35,
   "metadata": {},
   "outputs": [
    {
     "name": "stdout",
     "output_type": "stream",
     "text": [
      "Optimization terminated successfully.\n",
      "         Current function value: 0.278218\n",
      "         Iterations 7\n",
      "                           Logit Regression Results                           \n",
      "==============================================================================\n",
      "Dep. Variable:            one_success   No. Observations:                  470\n",
      "Model:                          Logit   Df Residuals:                      468\n",
      "Method:                           MLE   Df Model:                            1\n",
      "Date:                Tue, 07 Jun 2022   Pseudo R-squ.:                  0.5557\n",
      "Time:                        20:36:57   Log-Likelihood:                -130.76\n",
      "converged:                       True   LL-Null:                       -294.33\n",
      "Covariance Type:            nonrobust   LLR p-value:                 4.058e-73\n",
      "==============================================================================\n",
      "                 coef    std err          z      P>|z|      [0.025      0.975]\n",
      "------------------------------------------------------------------------------\n",
      "Intercept      7.8284      0.614     12.745      0.000       6.625       9.032\n",
      "age           -0.1740      0.014    -12.309      0.000      -0.202      -0.146\n",
      "==============================================================================\n"
     ]
    }
   ],
   "source": [
    "logit = smf.logit('one_success ~ age', data=merged).fit()\n",
    "print(logit.summary())"
   ]
  },
  {
   "cell_type": "markdown",
   "metadata": {},
   "source": [
    "There is a negative relationship between `age` and the chance of at least one successful survey. The coefficient is also statistically significant. To interpret it, we calculate the odds ratio."
   ]
  },
  {
   "cell_type": "code",
   "execution_count": 36,
   "metadata": {},
   "outputs": [
    {
     "name": "stdout",
     "output_type": "stream",
     "text": [
      "                    OR    Lower CI     Upper CI\n",
      "Intercept  2510.998985  753.350665  8369.430326\n",
      "age           0.840332    0.817375     0.863934\n",
      "-15.97\n"
     ]
    },
    {
     "name": "stderr",
     "output_type": "stream",
     "text": [
      "/tmp/ipykernel_51749/4211037893.py:7: FutureWarning: The pandas.np module is deprecated and will be removed from pandas in a future version. Import numpy directly instead.\n",
      "  odds_ratios = pd.np.exp(odds_ratios)\n"
     ]
    }
   ],
   "source": [
    "odds_ratios = pd.DataFrame({\n",
    "        'OR': logit.params, \n",
    "        'Lower CI': logit.conf_int()[0],\n",
    "        'Upper CI': logit.conf_int()[1]\n",
    "    })\n",
    "    \n",
    "odds_ratios = pd.np.exp(odds_ratios)\n",
    "print(odds_ratios)\n",
    "print(round((odds_ratios['OR'][1] - 1) * 100, 2))"
   ]
  },
  {
   "cell_type": "markdown",
   "metadata": {},
   "source": [
    "Each additional increase of one year in age is associated with a roughly 16 percent decrease\n",
    "in odds of having at least one successful survey. \n",
    "\n",
    "So far, it appears that older recipients are less likely to respond to surveys. Focusing on the \n",
    "older recipients would help target those with lower response rates."
   ]
  },
  {
   "cell_type": "markdown",
   "metadata": {},
   "source": [
    "### 3.2"
   ]
  },
  {
   "cell_type": "markdown",
   "metadata": {},
   "source": [
    "We include other variables in our logistic regression to check for confounders."
   ]
  },
  {
   "cell_type": "code",
   "execution_count": 37,
   "metadata": {},
   "outputs": [
    {
     "name": "stdout",
     "output_type": "stream",
     "text": [
      "Warning: Maximum number of iterations has been exceeded.\n",
      "         Current function value: 0.074427\n",
      "         Iterations: 35\n",
      "                           Logit Regression Results                           \n",
      "==============================================================================\n",
      "Dep. Variable:            one_success   No. Observations:                  470\n",
      "Model:                          Logit   Df Residuals:                      464\n",
      "Method:                           MLE   Df Model:                            5\n",
      "Date:                Tue, 07 Jun 2022   Pseudo R-squ.:                  0.8811\n",
      "Time:                        20:36:57   Log-Likelihood:                -34.981\n",
      "converged:                      False   LL-Null:                       -294.33\n",
      "Covariance Type:            nonrobust   LLR p-value:                7.368e-110\n",
      "===================================================================================================\n",
      "                                      coef    std err          z      P>|z|      [0.025      0.975]\n",
      "---------------------------------------------------------------------------------------------------\n",
      "Intercept                          10.1049      2.935      3.443      0.001       4.352      15.858\n",
      "C(month)[T.11]                     22.0135   2.25e+04      0.001      0.999   -4.41e+04    4.41e+04\n",
      "C(month)[T.12]                     -0.3847      0.670     -0.574      0.566      -1.698       0.929\n",
      "C(account_status)[T.Not Active]    37.2287    1.2e+05      0.000      1.000   -2.36e+05    2.36e+05\n",
      "time_county                         0.1394      0.071      1.970      0.049       0.001       0.278\n",
      "age                                -0.3711      0.093     -3.981      0.000      -0.554      -0.188\n",
      "===================================================================================================\n",
      "\n",
      "Possibly complete quasi-separation: A fraction 0.54 of observations can be\n",
      "perfectly predicted. This might indicate that there is complete\n",
      "quasi-separation. In this case some parameters will not be identified.\n"
     ]
    },
    {
     "name": "stderr",
     "output_type": "stream",
     "text": [
      "/home/dylan/give-directly-exercise/.venv/lib/python3.8/site-packages/statsmodels/base/model.py:604: ConvergenceWarning: Maximum Likelihood optimization failed to converge. Check mle_retvals\n",
      "  warnings.warn(\"Maximum Likelihood optimization failed to \"\n"
     ]
    }
   ],
   "source": [
    "big_logit = smf.logit('one_success ~ time_county + age + C(month) + C(account_status)', data=merged).fit()\n",
    "print(big_logit.summary())"
   ]
  },
  {
   "cell_type": "markdown",
   "metadata": {},
   "source": [
    "When `time_county`, `month`, and `account_status` are included along with `age`, `age` and `time_county` are still significant predictors. We can also look at other feature selection methods."
   ]
  },
  {
   "cell_type": "markdown",
   "metadata": {},
   "source": [
    "Logistic regression can also be used to [select features](https://towardsdatascience.com/feature-selection-with-pandas-e3690ad8504b) based on their importance in predicting at least one successful survey."
   ]
  },
  {
   "cell_type": "code",
   "execution_count": 38,
   "metadata": {},
   "outputs": [
    {
     "name": "stdout",
     "output_type": "stream",
     "text": [
      "Best accuracy score using built-in LogisticRegCV: 0.992908\n"
     ]
    },
    {
     "data": {
      "image/png": "[encoded data removed]",
      "text/plain": [
       "<Figure size 432x288 with 1 Axes>"
      ]
     },
     "metadata": {
      "needs_background": "light"
     },
     "output_type": "display_data"
    }
   ],
   "source": [
    "reg = LogisticRegressionCV()\n",
    "cat_cols = ['month', 'account_status', 'county']\n",
    "num_cols = ['age', 'time_county']\n",
    "d = defaultdict(LabelEncoder)\n",
    "le_fit = merged[cat_cols].apply(lambda x: d[x.name].fit_transform(x))\n",
    "X = pd.concat((merged[num_cols], le_fit), axis=1)\n",
    "y = merged['one_success']\n",
    "X_train, X_test, y_train, y_test = train_test_split(\n",
    "    X, y, test_size=0.3, random_state=42\n",
    ")\n",
    "\n",
    "reg.fit(X_train, y_train)\n",
    "print(\"Best accuracy score using built-in LogisticRegCV: %f\" % reg.score(X_test, y_test))\n",
    "coef = pd.Series(reg.coef_.flatten(), index=X.columns)\n",
    "imp_coef = coef.sort_values()\n",
    "\n",
    "imp_coef.plot(kind=\"barh\")\n",
    "plt.title(\"Feature importance using Logistic Regression Model\")\n",
    "plt.tight_layout()\n",
    "plt.show()"
   ]
  },
  {
   "cell_type": "markdown",
   "metadata": {},
   "source": [
    "It appears that `account_status` has the largest effect on whether a survey is successful.\n",
    "`age` and `month` are discarded. Recall that `age` and `account_status` are correlated, however."
   ]
  },
  {
   "cell_type": "code",
   "execution_count": 39,
   "metadata": {},
   "outputs": [
    {
     "data": {
      "text/plain": [
       "account_status\n",
       "Active        36.534617\n",
       "Not Active    46.908571\n",
       "Name: age, dtype: float64"
      ]
     },
     "execution_count": 39,
     "metadata": {},
     "output_type": "execute_result"
    }
   ],
   "source": [
    "merged.groupby('account_status')['age'].mean()"
   ]
  },
  {
   "cell_type": "markdown",
   "metadata": {},
   "source": [
    "The 'Not Active' group is slightly older. A test of the equality of group means can confirm this. The null hypothesis is that the means are equal."
   ]
  },
  {
   "cell_type": "code",
   "execution_count": 40,
   "metadata": {},
   "outputs": [
    {
     "name": "stdout",
     "output_type": "stream",
     "text": [
      "(-4.195204577788873, 3.2623669773784404e-05, 468.0)\n"
     ]
    }
   ],
   "source": [
    "active_age = merged.age[merged.account_status == 'Active']\n",
    "notactive_age = merged.age[merged.account_status == 'Not Active']\n",
    "print(CompareMeans.from_data(active_age, notactive_age).ttest_ind())"
   ]
  },
  {
   "cell_type": "markdown",
   "metadata": {},
   "source": [
    "The p-value is close to zero, rejecting the null hypothesis that the means of the two groups are equal.\n",
    "So there is a statistically significant difference between the ages of 'Active' and 'Not Active' recipients."
   ]
  },
  {
   "cell_type": "markdown",
   "metadata": {},
   "source": [
    "Let's now use a tree-based classifier for comparison."
   ]
  },
  {
   "cell_type": "code",
   "execution_count": 41,
   "metadata": {},
   "outputs": [
    {
     "name": "stdout",
     "output_type": "stream",
     "text": [
      "Mean accuracy on test data is 1.0\n"
     ]
    },
    {
     "data": {
      "image/png": "[encoded data removed]",
      "text/plain": [
       "<Figure size 432x288 with 1 Axes>"
      ]
     },
     "metadata": {
      "needs_background": "light"
     },
     "output_type": "display_data"
    }
   ],
   "source": [
    "reg_extra_tree = ExtraTreesClassifier(n_estimators=10)\n",
    "reg_extra_tree.fit(X_train, y_train)\n",
    "feat_imp = pd.Series(\n",
    "    reg_extra_tree.feature_importances_,\n",
    "    index=X.columns\n",
    ").sort_values()\n",
    "print(f\"Mean accuracy on test data is {reg_extra_tree.score(X_test, y_test)}\")\n",
    "feat_imp.plot(kind=\"barh\")\n",
    "plt.title(\"Feature importance using Extra Tree Classifier\")\n",
    "plt.tight_layout()\n",
    "plt.show()"
   ]
  },
  {
   "cell_type": "markdown",
   "metadata": {},
   "source": [
    "This time the model has `age` as the most important effect, with `time_county` as a close second. All of the features are chosen by the model, however. Note that there is randomness in the model, so sometimes the features\n",
    "will be ranked differently across different runs. But the model will still choose features important for prediction."
   ]
  }
 ],
 "metadata": {
  "interpreter": {
   "hash": "fec3f78f77408d1e1e6878babc2546d7567028565770fcb1220e700620750be0"
  },
  "kernelspec": {
   "display_name": "Python 3.8.10 ('.venv': venv)",
   "language": "python",
   "name": "python3"
  },
  "language_info": {
   "codemirror_mode": {
    "name": "ipython",
    "version": 3
   },
   "file_extension": ".py",
   "mimetype": "text/x-python",
   "name": "python",
   "nbconvert_exporter": "python",
   "pygments_lexer": "ipython3",
   "version": "3.8.10"
  },
  "orig_nbformat": 4
 },
 "nbformat": 4,
 "nbformat_minor": 2
}
